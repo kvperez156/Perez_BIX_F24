{
  "cells": [
    {
      "cell_type": "markdown",
      "metadata": {
        "id": "sHIeLwWce4tw"
      },
      "source": [
        "# Lab 2 - Simple Chemotaxis\n",
        "\n",
        "This lab is designed to get you familiar with the basics of chemotaxis like that performed by bacteria, specifically _e. coli_.  \n",
        "\n",
        "We will compare our random agent from Lab 1 (Rando) with a gradient searcher who operates akin to a simple bacteria agent. We'll call this agent Chemo.\n",
        "\n",
        "There are three goals here.\n",
        "\n",
        "1. Extrapolate on scent signals and gradients.\n",
        "2. Examine exploration for targets with a variable scent in an open field.\n",
        "3. Compare simple chemotaxis, with a Levy-walk structure, to Brownian motion."
      ]
    },
    {
      "cell_type": "markdown",
      "metadata": {
        "id": "KNr4qUoAfTlH"
      },
      "source": [
        "## Background\n",
        "\n",
        "In this lab we return to _taxic explorations_. We visit the sniff world (aka _ScentGrid_) and at what happens when sense signals are noisy.\n"
      ]
    },
    {
      "cell_type": "markdown",
      "metadata": {
        "id": "x42GmIbGxVWx"
      },
      "source": [
        "**Structured randomness and basic chemotaxis**\n",
        "\n",
        "In lab 1 we played with a random search agent that wandered using Brownian motion. Here we will introuce a new random agent that moves according to Levy walks.\n",
        "\n",
        "* A Levy walk is a continuing process of random movement where at each \"step\" of movement, a direction of and distance of movement is chosen randomly. The distance $\\delta_i$ of movement at each time step $i$ is sampled from the random distribution as follows: $\\delta_i = {u_i}^{-\\frac{1}{\\gamma}}$, where $u_i \\sim N(\\mu,\\sigma)$ and $\\gamma > 1$.\n",
        "\n",
        "Our _chemotaxis_ agent (_GradientDiffusionGrid_) tries to directly estimate the gradient of the scent $\\nabla S$  by comparing the level of scent at the last grid position it occupied to the current scent level ($s$). By last position here we mean the last position when it moved last.\n",
        "\n",
        "$$\\nabla S \\approx s_t - s_{t-1}$$\n",
        "\n",
        "Our chemotaxis agent thus behaves as follows:\n",
        "\n",
        "- When the gradient is positive, meaning you are going \"up\" the gradient, the probabilty of changing course and doing a tumble is set to _p pos_.\n",
        "- When the gradient is negative, the probability of a doing a tumble is set to _p neg_. (See code below, for an example).\n",
        "- If the agent \"decides\" to tumble, the direction it takes is uniform random.\n",
        "- If no tumble is decided, the agent keeps moving in the direciton it was going before.\n",
        "- The length of travel now is just a single step on the grid. This makes our decision problem a lot simpler. Basically this is equivalent to making the diffusion parameter, $D$, consistent across experiments.\n"
      ]
    },
    {
      "cell_type": "markdown",
      "metadata": {
        "id": "9GbUZLcmhC87"
      },
      "source": [
        "## Section 0 - Setup"
      ]
    },
    {
      "cell_type": "markdown",
      "metadata": {
        "id": "eAVJYYdhhKSL"
      },
      "source": [
        "First let's set things up for the two parts of the lab. You've done this before, so we don't need to specify each installation and module step."
      ]
    },
    {
      "cell_type": "code",
      "execution_count": 3,
      "metadata": {
        "id": "GaM7UFV6yKE1",
        "colab": {
          "base_uri": "https://localhost:8080/"
        },
        "outputId": "94f58662-e17d-489a-d147-a58693f3664e"
      },
      "outputs": [
        {
          "output_type": "stream",
          "name": "stdout",
          "text": [
            "Collecting git+https://github.com/coaxlab/explorationlib\n",
            "  Cloning https://github.com/coaxlab/explorationlib to /tmp/pip-req-build-3zub90g9\n",
            "  Running command git clone --filter=blob:none --quiet https://github.com/coaxlab/explorationlib /tmp/pip-req-build-3zub90g9\n",
            "  Resolved https://github.com/coaxlab/explorationlib to commit 1370823ba06ddf3a3b14929e3de0cb4d16b7ce49\n",
            "  Preparing metadata (setup.py) ... \u001b[?25l\u001b[?25hdone\n",
            "Requirement already satisfied: numpy in /usr/local/lib/python3.10/dist-packages (from explorationlib==0.0.1) (1.26.4)\n",
            "Requirement already satisfied: scipy in /usr/local/lib/python3.10/dist-packages (from explorationlib==0.0.1) (1.13.1)\n",
            "Requirement already satisfied: pandas in /usr/local/lib/python3.10/dist-packages (from explorationlib==0.0.1) (2.1.4)\n",
            "Requirement already satisfied: matplotlib in /usr/local/lib/python3.10/dist-packages (from explorationlib==0.0.1) (3.7.1)\n",
            "Requirement already satisfied: seaborn in /usr/local/lib/python3.10/dist-packages (from explorationlib==0.0.1) (0.13.1)\n",
            "Requirement already satisfied: scikit-learn in /usr/local/lib/python3.10/dist-packages (from explorationlib==0.0.1) (1.3.2)\n",
            "Requirement already satisfied: numba in /usr/local/lib/python3.10/dist-packages (from explorationlib==0.0.1) (0.60.0)\n",
            "Requirement already satisfied: future in /usr/local/lib/python3.10/dist-packages (from explorationlib==0.0.1) (1.0.0)\n",
            "Requirement already satisfied: contourpy>=1.0.1 in /usr/local/lib/python3.10/dist-packages (from matplotlib->explorationlib==0.0.1) (1.3.0)\n",
            "Requirement already satisfied: cycler>=0.10 in /usr/local/lib/python3.10/dist-packages (from matplotlib->explorationlib==0.0.1) (0.12.1)\n",
            "Requirement already satisfied: fonttools>=4.22.0 in /usr/local/lib/python3.10/dist-packages (from matplotlib->explorationlib==0.0.1) (4.53.1)\n",
            "Requirement already satisfied: kiwisolver>=1.0.1 in /usr/local/lib/python3.10/dist-packages (from matplotlib->explorationlib==0.0.1) (1.4.7)\n",
            "Requirement already satisfied: packaging>=20.0 in /usr/local/lib/python3.10/dist-packages (from matplotlib->explorationlib==0.0.1) (24.1)\n",
            "Requirement already satisfied: pillow>=6.2.0 in /usr/local/lib/python3.10/dist-packages (from matplotlib->explorationlib==0.0.1) (9.4.0)\n",
            "Requirement already satisfied: pyparsing>=2.3.1 in /usr/local/lib/python3.10/dist-packages (from matplotlib->explorationlib==0.0.1) (3.1.4)\n",
            "Requirement already satisfied: python-dateutil>=2.7 in /usr/local/lib/python3.10/dist-packages (from matplotlib->explorationlib==0.0.1) (2.8.2)\n",
            "Requirement already satisfied: llvmlite<0.44,>=0.43.0dev0 in /usr/local/lib/python3.10/dist-packages (from numba->explorationlib==0.0.1) (0.43.0)\n",
            "Requirement already satisfied: pytz>=2020.1 in /usr/local/lib/python3.10/dist-packages (from pandas->explorationlib==0.0.1) (2024.2)\n",
            "Requirement already satisfied: tzdata>=2022.1 in /usr/local/lib/python3.10/dist-packages (from pandas->explorationlib==0.0.1) (2024.1)\n",
            "Requirement already satisfied: joblib>=1.1.1 in /usr/local/lib/python3.10/dist-packages (from scikit-learn->explorationlib==0.0.1) (1.4.2)\n",
            "Requirement already satisfied: threadpoolctl>=2.0.0 in /usr/local/lib/python3.10/dist-packages (from scikit-learn->explorationlib==0.0.1) (3.5.0)\n",
            "Requirement already satisfied: six>=1.5 in /usr/local/lib/python3.10/dist-packages (from python-dateutil>=2.7->matplotlib->explorationlib==0.0.1) (1.16.0)\n",
            "Building wheels for collected packages: explorationlib\n",
            "  Building wheel for explorationlib (setup.py) ... \u001b[?25l\u001b[?25hdone\n",
            "  Created wheel for explorationlib: filename=explorationlib-0.0.1-py3-none-any.whl size=42722 sha256=b5fc9f7e1181ae5014c9385d3f1271972e62093ff46b5b6cb84a9a57275810d7\n",
            "  Stored in directory: /tmp/pip-ephem-wheel-cache-iihlv87l/wheels/71/57/e8/88c93e85ce02efaef024038b2ddcb6c6dec8a1a212f712bb05\n",
            "Successfully built explorationlib\n",
            "Installing collected packages: explorationlib\n",
            "Successfully installed explorationlib-0.0.1\n",
            "Collecting git+https://github.com/MattChanTK/gym-maze.git\n",
            "  Cloning https://github.com/MattChanTK/gym-maze.git to /tmp/pip-req-build-59jhtw5u\n",
            "  Running command git clone --filter=blob:none --quiet https://github.com/MattChanTK/gym-maze.git /tmp/pip-req-build-59jhtw5u\n",
            "  Resolved https://github.com/MattChanTK/gym-maze.git to commit 83176811b49b5538a6213520612f44fb1bc49114\n",
            "  Preparing metadata (setup.py) ... \u001b[?25l\u001b[?25hdone\n",
            "Requirement already satisfied: gym in /usr/local/lib/python3.10/dist-packages (from gym_maze==0.4) (0.25.2)\n",
            "Requirement already satisfied: pygame in /usr/local/lib/python3.10/dist-packages (from gym_maze==0.4) (2.6.0)\n",
            "Requirement already satisfied: numpy in /usr/local/lib/python3.10/dist-packages (from gym_maze==0.4) (1.26.4)\n",
            "Requirement already satisfied: cloudpickle>=1.2.0 in /usr/local/lib/python3.10/dist-packages (from gym->gym_maze==0.4) (2.2.1)\n",
            "Requirement already satisfied: gym-notices>=0.0.4 in /usr/local/lib/python3.10/dist-packages (from gym->gym_maze==0.4) (0.0.8)\n",
            "Building wheels for collected packages: gym_maze\n",
            "  Building wheel for gym_maze (setup.py) ... \u001b[?25l\u001b[?25hdone\n",
            "  Created wheel for gym_maze: filename=gym_maze-0.4-py3-none-any.whl size=14219 sha256=267f61a231883af2af018681e7066df3d299196bb1dbde6f167547b2972fcfcf\n",
            "  Stored in directory: /tmp/pip-ephem-wheel-cache-1lcbq19s/wheels/b0/53/2e/e282706624110bc964538d7840bef68fef2bc1865a87e3016e\n",
            "Successfully built gym_maze\n",
            "Installing collected packages: gym_maze\n",
            "Successfully installed gym_maze-0.4\n"
          ]
        }
      ],
      "source": [
        "!pip install --upgrade git+https://github.com/coaxlab/explorationlib\n",
        "!pip install --upgrade git+https://github.com/MattChanTK/gym-maze.git"
      ]
    },
    {
      "cell_type": "code",
      "execution_count": 4,
      "metadata": {
        "id": "zI0CIEceyQx4"
      },
      "outputs": [],
      "source": [
        "import shutil\n",
        "import glob\n",
        "import os\n",
        "\n",
        "import numpy as np\n",
        "import pandas as pd\n",
        "import seaborn as sns\n",
        "import matplotlib.pyplot as plt\n",
        "from copy import deepcopy\n",
        "\n",
        "import explorationlib\n",
        "from explorationlib.local_gym import ScentGrid\n",
        "\n",
        "from explorationlib.agent import DiffusionGrid\n",
        "from explorationlib.agent import GradientDiffusionGrid\n",
        "\n",
        "\n",
        "from explorationlib.run import experiment\n",
        "from explorationlib.util import select_exp\n",
        "from explorationlib.util import load\n",
        "from explorationlib.util import save\n",
        "\n",
        "from explorationlib.local_gym import uniform_targets\n",
        "from explorationlib.local_gym import constant_values\n",
        "from explorationlib.local_gym import ScentGrid\n",
        "from explorationlib.local_gym import create_grid_scent\n",
        "from explorationlib.local_gym import add_noise\n",
        "from explorationlib.local_gym import create_grid_scent_patches\n",
        "\n",
        "from explorationlib.plot import plot_position2d\n",
        "from explorationlib.plot import plot_length_hist\n",
        "from explorationlib.plot import plot_length\n",
        "from explorationlib.plot import plot_targets2d\n",
        "from explorationlib.plot import plot_scent_grid\n",
        "from explorationlib.plot import plot_targets2d\n",
        "\n",
        "from explorationlib.score import total_reward\n",
        "from explorationlib.score import num_death"
      ]
    },
    {
      "cell_type": "code",
      "execution_count": 5,
      "metadata": {
        "id": "KQbjVvs6p1Zz"
      },
      "outputs": [],
      "source": [
        "# Pretty plots\n",
        "%matplotlib inline\n",
        "%config InlineBackend.figure_format='retina'\n",
        "%config IPCompleter.greedy=True\n",
        "plt.rcParams[\"axes.facecolor\"] = \"white\"\n",
        "plt.rcParams[\"figure.facecolor\"] = \"white\"\n",
        "plt.rcParams[\"font.size\"] = \"16\"\n",
        "\n",
        "# Dev\n",
        "%load_ext autoreload\n",
        "%autoreload 2"
      ]
    },
    {
      "cell_type": "markdown",
      "metadata": {
        "id": "sMxnPUlZzSN9"
      },
      "source": [
        "## Section 1 - Simulating noisy scents"
      ]
    },
    {
      "cell_type": "markdown",
      "metadata": {
        "id": "U5WQC2m1hnO0"
      },
      "source": [
        "To build some intuition, let's plot the \"scent\" emitted by a single target."
      ]
    },
    {
      "cell_type": "markdown",
      "metadata": {
        "id": "vJJ1HiR6h1Op"
      },
      "source": [
        "### Full Scent\n",
        "\n",
        "Okay, let's first visualize what the scent diffusion around each target looks like in the environment using the diffusion parameters we have set up."
      ]
    },
    {
      "cell_type": "code",
      "execution_count": 6,
      "metadata": {
        "id": "0fHcLlNpylrM"
      },
      "outputs": [],
      "source": [
        "target_boundary = (10, 10)"
      ]
    },
    {
      "cell_type": "code",
      "execution_count": 7,
      "metadata": {
        "id": "C-I19zVNymDT",
        "outputId": "b16a58a8-8d14-4a09-bb31-8001d215888b",
        "colab": {
          "base_uri": "https://localhost:8080/",
          "height": 455
        }
      },
      "outputs": [
        {
          "output_type": "execute_result",
          "data": {
            "text/plain": [
              "<matplotlib.image.AxesImage at 0x7cdcbbeaae30>"
            ]
          },
          "metadata": {},
          "execution_count": 7
        },
        {
          "output_type": "display_data",
          "data": {
            "text/plain": [
              "<Figure size 640x480 with 1 Axes>"
            ],
            "image/png": "[encoded data removed]"
          },
          "metadata": {
            "image/png": {
              "width": 448,
              "height": 420
            }
          }
        }
      ],
      "source": [
        "coord, scent = create_grid_scent_patches(\n",
        "        target_boundary, p=1.0, sigma=2)\n",
        "\n",
        "plt.imshow(scent, interpolation=None)"
      ]
    },
    {
      "cell_type": "markdown",
      "metadata": {
        "id": "xeoYEn00zmqx"
      },
      "source": [
        "### Noisy Scent\n",
        "\n",
        "To corrupt the signal we can simply add more Gaussian noise. In this case we will use the *add_noise* function with a $\\sigma=1$."
      ]
    },
    {
      "cell_type": "code",
      "execution_count": 8,
      "metadata": {
        "id": "e6R0SV4Jyr2a",
        "outputId": "baafd84e-e8ed-4e3c-e968-029298560a04",
        "colab": {
          "base_uri": "https://localhost:8080/",
          "height": 455
        }
      },
      "outputs": [
        {
          "output_type": "execute_result",
          "data": {
            "text/plain": [
              "<matplotlib.image.AxesImage at 0x7cdcb97787f0>"
            ]
          },
          "metadata": {},
          "execution_count": 8
        },
        {
          "output_type": "display_data",
          "data": {
            "text/plain": [
              "<Figure size 640x480 with 1 Axes>"
            ],
            "image/png": "[encoded data removed]"
          },
          "metadata": {
            "image/png": {
              "width": 448,
              "height": 420
            }
          }
        }
      ],
      "source": [
        "noise_sigma = 2\n",
        "\n",
        "coord, scent = create_grid_scent_patches(target_boundary, p=1.0, sigma=2)\n",
        "scent = add_noise(scent, noise_sigma)\n",
        "\n",
        "plt.imshow(scent, interpolation=None)"
      ]
    },
    {
      "cell_type": "markdown",
      "metadata": {
        "id": "Zw1sOYGFilfl"
      },
      "source": [
        "Doesn't look resolvable does it? If you squint, maybe you can see it?\n",
        "\n",
        "In order to confirm that there is signal there, let's take a look at the average over 100 noisy targets."
      ]
    },
    {
      "cell_type": "code",
      "execution_count": 9,
      "metadata": {
        "id": "zPYe-pb5p1Z1",
        "outputId": "017aa4f3-9fa7-4370-e416-03dd2426a741",
        "colab": {
          "base_uri": "https://localhost:8080/",
          "height": 455
        }
      },
      "outputs": [
        {
          "output_type": "execute_result",
          "data": {
            "text/plain": [
              "<matplotlib.image.AxesImage at 0x7cdcb97ec9d0>"
            ]
          },
          "metadata": {},
          "execution_count": 9
        },
        {
          "output_type": "display_data",
          "data": {
            "text/plain": [
              "<Figure size 640x480 with 1 Axes>"
            ],
            "image/png": "[encoded data removed]"
          },
          "metadata": {
            "image/png": {
              "width": 448,
              "height": 420
            }
          }
        }
      ],
      "source": [
        "amplitude = 1\n",
        "noise_sigma = 7\n",
        "num_samples = 1000\n",
        "\n",
        "scents = []\n",
        "for _ in range(num_samples):\n",
        "    coord, scent = create_grid_scent_patches(target_boundary, p=1.0, sigma=2)\n",
        "    scent = add_noise(scent, noise_sigma)\n",
        "    scents.append(deepcopy(scent))\n",
        "\n",
        "scent = np.sum(scents, axis=0)\n",
        "\n",
        "plt.imshow(scent, interpolation=None)"
      ]
    },
    {
      "cell_type": "markdown",
      "metadata": {
        "id": "Zv0unH1ZkJxG"
      },
      "source": [
        "So, pretty noisy but resolvable."
      ]
    },
    {
      "cell_type": "markdown",
      "metadata": {
        "id": "bDeWuSfGkM8G"
      },
      "source": [
        "---\n",
        "### Question 1.1\n",
        "\n",
        "Adding noise and lowering detection probability both act to increase distortion to the signal channel that will be used by our agents. Will this help or hinder the agents that use sensory signals and/or information to drive their decisions? Explain your answer."
      ]
    },
    {
      "cell_type": "markdown",
      "source": [
        "__Answer:__\n",
        "\n",
        "The noise creates  more confounding inluence which results in less input to help calirfy gradients."
      ],
      "metadata": {
        "id": "GqDUN_8vIVq1"
      }
    },
    {
      "cell_type": "markdown",
      "metadata": {
        "id": "Hri_qayrlN2C"
      },
      "source": [
        "---\n",
        "### Question 1.2\n",
        "\n",
        "Re-run the simulations above, playing with both of the *noise_sigma* term, ranging from 1 to 10. What are the values for each parameter that lead to a complete loss in the scent signal even when averaging across 1000 samples?"
      ]
    },
    {
      "cell_type": "markdown",
      "source": [
        "__Answer:__\n",
        "\n",
        "When the noise_sigma term was 7 the scent was a bit tricky to detect. I would say there is complete loss when the noise_sigma term was 8."
      ],
      "metadata": {
        "id": "riLI26GeIcsL"
      }
    },
    {
      "cell_type": "markdown",
      "metadata": {
        "id": "JnKyN9oM0GTm"
      },
      "source": [
        "## Section 2 - Using Basic Sensory Evidence To Explore"
      ]
    },
    {
      "cell_type": "markdown",
      "metadata": {
        "id": "IpB4JhugmNJE"
      },
      "source": [
        "\n",
        "In this section we take on the simplest form of sensory tracking: whether or not a chemical gradient is increasing or decreasing.\n",
        "\n",
        "We start by setting up our basic environment."
      ]
    },
    {
      "cell_type": "code",
      "execution_count": 10,
      "metadata": {
        "id": "StauX74y0QjT"
      },
      "outputs": [],
      "source": [
        "# Noise scents\n",
        "noise_sigma = 2 # We'll make it pretty noisy\n",
        "\n",
        "# Shared\n",
        "num_experiments = 100\n",
        "num_steps = 500\n",
        "seed_value = 5838\n",
        "\n",
        "# ! (leave alone)\n",
        "min_length = 1\n",
        "num_targets = 50\n",
        "target_boundary = (40, 40)\n",
        "\n",
        "# Targets\n",
        "prng = np.random.RandomState(seed_value)\n",
        "targets = uniform_targets(num_targets, target_boundary, prng=prng)\n",
        "values = constant_values(targets, 1)\n",
        "\n",
        "# Scents\n",
        "scents = []\n",
        "for _ in range(len(targets)):\n",
        "    coord, scent = create_grid_scent_patches(\n",
        "        target_boundary, p=1.0, amplitude=1, sigma=2)\n",
        "    scents.append(scent)\n",
        "\n",
        "# Env\n",
        "env = ScentGrid(mode=None)\n",
        "env.seed(seed_value)\n",
        "env.add_scents(targets, values, coord, scents, noise_sigma=noise_sigma)"
      ]
    },
    {
      "cell_type": "markdown",
      "metadata": {
        "id": "ip-6AMyMmzjk"
      },
      "source": [
        "Again we are working a scent grid environment where each target emits noisy chemical signals (scents) according to our definitions above.\n",
        "\n",
        "We will want the environment to be relatively sparse, to make the task somewhat difficult. Thus we will only generate 25 targets in a big open field.\n",
        "\n",
        "Here's an example of our environment"
      ]
    },
    {
      "cell_type": "code",
      "execution_count": 11,
      "metadata": {
        "id": "4xKn5Oog3HB8",
        "outputId": "769f9b24-413f-43e2-b7b7-13370bef37f0",
        "colab": {
          "base_uri": "https://localhost:8080/",
          "height": 334
        }
      },
      "outputs": [
        {
          "output_type": "display_data",
          "data": {
            "text/plain": [
              "<Figure size 300x300 with 1 Axes>"
            ],
            "image/png": "[encoded data removed]"
          },
          "metadata": {
            "image/png": {
              "width": 507,
              "height": 317
            }
          }
        }
      ],
      "source": [
        "plot_boundary = target_boundary\n",
        "ax = None\n",
        "ax = plot_targets2d(\n",
        "    env,\n",
        "    boundary=plot_boundary,\n",
        "    color=\"black\",\n",
        "    alpha=1,\n",
        "    label=\"Targets\",\n",
        "    ax=ax,\n",
        ")"
      ]
    },
    {
      "cell_type": "markdown",
      "metadata": {
        "id": "4SRoMBksnAML"
      },
      "source": [
        "We will use 2 agents in these sims:\n",
        "\n",
        "- Rando: Uses random Brownian motion search.\n",
        "- Chemo: Uses only the detected scent gradient to make a decision as to whether or not to tumble.\n",
        "\n",
        "How do these agents work? Check the explorationlib code for details.\n",
        "\n",
        "* In the left panel on Colab, click on the file icon to access the file view for your Colab notebook.\n",
        "* Click the \"..\" file to go up one level (if necessary) and then navigate to `/usr/local/lib/python3.XX/dist-packages/explorationlib/agent.py` and double click the file (or just click the link in this bullet) to open up the library's code for defining exploration agents.\n",
        "* Find the _DiffusionGrid_ and _GradientDiffusionGrid_ functions to see how they are implemented."
      ]
    },
    {
      "cell_type": "code",
      "execution_count": 12,
      "metadata": {
        "id": "hvKupKt10V5s",
        "outputId": "4d8d2516-1dcd-4407-f714-4cc7eb26b05b",
        "colab": {
          "base_uri": "https://localhost:8080/"
        }
      },
      "outputs": [
        {
          "output_type": "execute_result",
          "data": {
            "text/plain": [
              "[5838]"
            ]
          },
          "metadata": {},
          "execution_count": 12
        }
      ],
      "source": [
        "# Agents\n",
        "\n",
        "# Random search agent\n",
        "diff = DiffusionGrid(min_length=min_length)\n",
        "diff.seed(seed_value)\n",
        "\n",
        "# Chemotaxis agent\n",
        "min_length = 1 # Minimum step length on the grid\n",
        "p_neg = 1.0 # Probability of jumping if gradient is decreasing\n",
        "p_pos = 0.0 # Probabilty of jumping if gradient is increasing\n",
        "chemo = GradientDiffusionGrid(\n",
        "    min_length=min_length,\n",
        "    p_neg=p_neg,\n",
        "    p_pos=p_pos,\n",
        ")\n",
        "chemo.seed(seed_value)\n"
      ]
    },
    {
      "cell_type": "markdown",
      "metadata": {
        "id": "awCEAAyGngBm"
      },
      "source": [
        "Now let's run the experiments."
      ]
    },
    {
      "cell_type": "code",
      "execution_count": 13,
      "metadata": {
        "id": "rVTGtSPT0fN_",
        "outputId": "e7192fb9-40d6-444a-b125-d8fb7cb1acaa",
        "colab": {
          "base_uri": "https://localhost:8080/",
          "height": 81,
          "referenced_widgets": [
            "d4a2eb4771fc4988aa26a1a956885eca",
            "7114e770f1d7464790a6e958952d2ba8",
            "d4da06f073f9489fabd42f36c803fa08",
            "37432dd0c01a4f4b9d408ca917dc7b81",
            "66f43a797fc44f9a90861d2e7fc569cc",
            "7b615cf6988c4887a7c4ff3eb7ca17d6",
            "3bc0f014693b4b8ba3116224b0e75e9f",
            "876426be0c9245b1871246a63df69d92",
            "8e5dba5636a04c4ba2aeeac6c5c00389",
            "f5c3c502cd124fb7aca9c37c92aab68e",
            "be0b97dd476d43e483f6705eb89945bb",
            "8614497cc6ab42f2ae0d90c27328de08",
            "0fed378ba7cd44d08f6a3a53a7966c35",
            "4ea03983ce14429fa16563b8c510bed2",
            "51a8d5ba98184eebab4b4aff1be4c03e",
            "9d7adf15b0ce460298e2e75e4418cfa0",
            "42a061a690ed42d092bedbde3b05dcc5",
            "5cf36d9322624e8e86771e0b96e19c86",
            "4aac2384295c43a3858b90ce11636c3a",
            "da318ffbebb94137998f2320b1837fdd",
            "7d1637fe7d1b42a3855c88e18dbb3961",
            "886573f369604b2081852c744e0506eb"
          ]
        }
      },
      "outputs": [
        {
          "output_type": "display_data",
          "data": {
            "text/plain": [
              "rand:   0%|          | 0/100 [00:00<?, ?it/s]"
            ],
            "application/vnd.jupyter.widget-view+json": {
              "version_major": 2,
              "version_minor": 0,
              "model_id": "d4a2eb4771fc4988aa26a1a956885eca"
            }
          },
          "metadata": {}
        },
        {
          "output_type": "display_data",
          "data": {
            "text/plain": [
              "chemo:   0%|          | 0/100 [00:00<?, ?it/s]"
            ],
            "application/vnd.jupyter.widget-view+json": {
              "version_major": 2,
              "version_minor": 0,
              "model_id": "8614497cc6ab42f2ae0d90c27328de08"
            }
          },
          "metadata": {}
        }
      ],
      "source": [
        "# Experiments\n",
        "rand_exp = experiment(\n",
        "    f\"rand\",\n",
        "    diff,\n",
        "    env,\n",
        "    num_steps=num_steps,\n",
        "    num_experiments=num_experiments,\n",
        "    dump=False,\n",
        "    split_state=True,\n",
        "    seed=seed_value\n",
        ")\n",
        "chemo_exp = experiment(\n",
        "    f\"chemo\",\n",
        "    chemo,\n",
        "    env,\n",
        "    num_steps=num_steps,\n",
        "    num_experiments=num_experiments,\n",
        "    dump=False,\n",
        "    split_state=True,\n",
        "    seed=seed_value\n",
        ")"
      ]
    },
    {
      "cell_type": "markdown",
      "metadata": {
        "id": "aNn5xm5nno3t"
      },
      "source": [
        "Let's plot an example experiment. Here I'm choosing the second run for each agent."
      ]
    },
    {
      "cell_type": "code",
      "execution_count": 14,
      "metadata": {
        "id": "-1x_tV4C0jMS",
        "outputId": "d806766c-0460-44f8-a2a9-c326c43012b9",
        "colab": {
          "base_uri": "https://localhost:8080/",
          "height": 334
        }
      },
      "outputs": [
        {
          "output_type": "display_data",
          "data": {
            "text/plain": [
              "<Figure size 300x300 with 1 Axes>"
            ],
            "image/png": "[encoded data removed]"
          },
          "metadata": {
            "image/png": {
              "width": 507,
              "height": 317
            }
          }
        }
      ],
      "source": [
        "plot_boundary = target_boundary\n",
        "\n",
        "# -\n",
        "num_experiment = 2\n",
        "ax = None\n",
        "ax = plot_position2d(\n",
        "    select_exp(rand_exp, num_experiment),\n",
        "    boundary=plot_boundary,\n",
        "    label=\"Rando\",\n",
        "    color=\"red\",\n",
        "    alpha=0.8,\n",
        "    ax=ax,\n",
        ")\n",
        "ax = plot_position2d(\n",
        "    select_exp(chemo_exp, num_experiment),\n",
        "    boundary=plot_boundary,\n",
        "    label=\"Chemo\",\n",
        "    color=\"blue\",\n",
        "    alpha=0.6,\n",
        "    ax=ax,\n",
        ")\n",
        "ax = plot_targets2d(\n",
        "    env,\n",
        "    boundary=plot_boundary,\n",
        "    color=\"black\",\n",
        "    alpha=1,\n",
        "    label=\"Targets\",\n",
        "    ax=ax,\n",
        ")"
      ]
    },
    {
      "cell_type": "markdown",
      "metadata": {
        "id": "Sw96O-9pnzTb"
      },
      "source": [
        "Hard to distinguish their individual behaviors, but our agents seem to be exploring. It looks like this Chemo agent may be moving more than the Rando counterpart. So let's look at the overall distance both agents cover.\n"
      ]
    },
    {
      "cell_type": "code",
      "execution_count": 15,
      "metadata": {
        "id": "ICBnDBbep1Z7",
        "outputId": "6faf9587-babf-468b-f3f3-754c12219aa1",
        "colab": {
          "base_uri": "https://localhost:8080/",
          "height": 290
        }
      },
      "outputs": [
        {
          "output_type": "display_data",
          "data": {
            "text/plain": [
              "<Figure size 400x300 with 1 Axes>"
            ],
            "image/png": "[encoded data removed]"
          },
          "metadata": {
            "image/png": {
              "width": 373,
              "height": 273
            }
          }
        }
      ],
      "source": [
        "# Results\n",
        "results = [rand_exp, chemo_exp]\n",
        "names = [\"Rando\", \"Chemo\"]\n",
        "colors = [\"red\", \"blue\"]\n",
        "\n",
        "# Score by eff\n",
        "scores = []\n",
        "for name, res, color in zip(names, results, colors):\n",
        "    l = 0.0\n",
        "    for r in res:\n",
        "        l += np.sum(r[\"agent_num_step\"])\n",
        "    scores.append(l)\n",
        "\n",
        "# Tabulate\n",
        "m, sd = [], []\n",
        "for (name, s, c) in zip(names, scores, colors):\n",
        "    m.append(np.mean(s))\n",
        "    sd.append(np.std(s))\n",
        "\n",
        "# Plot means\n",
        "fig = plt.figure(figsize=(4, 3))\n",
        "plt.bar(names, m, yerr=sd, color=\"black\", alpha=0.6)\n",
        "plt.ylabel(\"Total run distance\")\n",
        "plt.tight_layout()\n",
        "sns.despine()"
      ]
    },
    {
      "cell_type": "markdown",
      "source": [
        "---\n",
        "### Question 2.1\n",
        "\n",
        "Why is the Chemo agent covering more distance than the random diffusion agent?"
      ],
      "metadata": {
        "id": "JtpQUbsGsmsR"
      }
    },
    {
      "cell_type": "markdown",
      "source": [
        "__Answer:__\n",
        "\n",
        "It's following the gradients, therefore is detecting gradients. Because the agent is following the gradient, it is decreasing the tumble probability and covering more distance."
      ],
      "metadata": {
        "id": "pbZ7uQ0qIiA1"
      }
    },
    {
      "cell_type": "markdown",
      "source": [
        "Okay, now we can look at the overall performance of the two agents.\n",
        "\n",
        "First, let's look at the most extreme performance measure: deaths. If an agent does not reach _at least one_ food pellet, then it dies at the end of the simulation. You've got to eat to survive afterall. Out of our set of simulations, how many deaths occured with each agent?"
      ],
      "metadata": {
        "id": "jKi3FEL-sx_a"
      }
    },
    {
      "cell_type": "code",
      "execution_count": 16,
      "metadata": {
        "id": "yPaHH65P2EP8",
        "outputId": "dc08ef42-fff7-4419-cd51-5032c29b6d65",
        "colab": {
          "base_uri": "https://localhost:8080/",
          "height": 354,
          "referenced_widgets": [
            "cd772d444e4247749867fb593362cc6a",
            "61d408a7bde24e3cb88ab6fe43236fe7",
            "bebe0f9a6a0b41ff84c574642b17761f",
            "c15ee0b579e944c68ec1924cd3168d7d",
            "d1772d7c87914c6b8d218831c64f6918",
            "5a39e8f29f23453b987a1f11e31d2adb",
            "defcf80a103e490680a8ac99dbd42c37",
            "021e2d03ff174747bae6a908fd1d3492",
            "69ebe1d177534138a95912419ca9fc80",
            "749e015a86074fa685a8eab501018714",
            "37e64442e95a41c98a4ef01cac653d38",
            "197b5361d9af4d2081e978a2fb7131f6",
            "12b3607502474bcab1b497711abbc905",
            "4acaaa5df14b41fab043c2d54fb5e86a",
            "f1507424ad8f4558a2278f0cf69d4e22",
            "0b9d81b2023c4da4b67d09fee00add08",
            "70ec23004c23486ba7978cadb2a44372",
            "aaf0c1bc49b640169a985d1393c2267f",
            "9996cd6f33174b5f9c7956a7aaca42cb",
            "bac660e47e564b649d853154a161687a",
            "57105ebb88eb438898cb392166f72394",
            "41201bc6532146b2ab2b236637889779"
          ]
        }
      },
      "outputs": [
        {
          "output_type": "display_data",
          "data": {
            "text/plain": [
              "num_death:   0%|          | 0/100 [00:00<?, ?it/s]"
            ],
            "application/vnd.jupyter.widget-view+json": {
              "version_major": 2,
              "version_minor": 0,
              "model_id": "cd772d444e4247749867fb593362cc6a"
            }
          },
          "metadata": {}
        },
        {
          "output_type": "display_data",
          "data": {
            "text/plain": [
              "num_death:   0%|          | 0/100 [00:00<?, ?it/s]"
            ],
            "application/vnd.jupyter.widget-view+json": {
              "version_major": 2,
              "version_minor": 0,
              "model_id": "197b5361d9af4d2081e978a2fb7131f6"
            }
          },
          "metadata": {}
        },
        {
          "output_type": "display_data",
          "data": {
            "text/plain": [
              "<Figure size 400x300 with 1 Axes>"
            ],
            "image/png": "[encoded data removed]"
          },
          "metadata": {
            "image/png": {
              "width": 373,
              "height": 273
            }
          }
        }
      ],
      "source": [
        "# Results\n",
        "results = [rand_exp, chemo_exp]\n",
        "names = [\"Rando\", \"Chemo\"]\n",
        "colors = [\"red\", \"blue\"]\n",
        "\n",
        "# Score by eff\n",
        "scores = []\n",
        "for name, res, color in zip(names, results, colors):\n",
        "    scores.append(num_death(res))\n",
        "\n",
        "# Tabulate\n",
        "m, sd = [], []\n",
        "for (name, s, c) in zip(names, scores, colors):\n",
        "    m.append(np.mean(s))\n",
        "    sd.append(np.std(s))\n",
        "\n",
        "# Plot means\n",
        "fig = plt.figure(figsize=(4, 3))\n",
        "plt.bar(names, m, yerr=sd, color=\"black\", alpha=0.6)\n",
        "plt.ylabel(\"Deaths\")\n",
        "plt.tight_layout()\n",
        "sns.despine()"
      ]
    },
    {
      "cell_type": "code",
      "execution_count": 17,
      "metadata": {
        "id": "7Kl9LjUL2IMK",
        "outputId": "1a726552-0012-46cb-bc6f-ab433f0c5ad3",
        "colab": {
          "base_uri": "https://localhost:8080/",
          "height": 829,
          "referenced_widgets": [
            "c25c7450dd414f0a9c4abdf19f2fbc80",
            "928a23896e304947b2f4824a4ba02ecc",
            "98e329bcee664b588568643ccdd2ce67",
            "3d9a9582fdf847d38fa6730debf7df63",
            "3371bab3077f4d0f8c077bf624e9d071",
            "d2f0c7db9e334e70a2c6e78c00e162bd",
            "3825e3a1b36e4716acb63f06fc524d47",
            "b6fa490a740b47919433893d71c22717",
            "a78b645c91d94fc7bae5152b7f0cac62",
            "8c7d7bf69a244987808a72e791ec18b3",
            "bc7d502c8cff4d0bbfae965324de2011",
            "7f593d4255a74d0ba09db97bcd982058",
            "b7f4db6941364e2a8f5bba87d8d2f9db",
            "c9bf1493148d43c0acf2b1bf9865fc39",
            "54863630a2a8447d8998a07bb57c3d7b",
            "a1d475fa33374716b2a5173cc8941732",
            "ff663c5987ef41909ef2321611620512",
            "7a8febf662ed453bbaf6042862da009e",
            "5ff3fe3f124e47f2938153da7602c0a1",
            "b426693a08674b55b2fe20931b33c9dd",
            "5f4b9885b6ae4a79b64e583e460b7991",
            "d02d1e9698254d17941551a3197d9ab3"
          ]
        }
      },
      "outputs": [
        {
          "output_type": "display_data",
          "data": {
            "text/plain": [
              "total_reward:   0%|          | 0/100 [00:00<?, ?it/s]"
            ],
            "application/vnd.jupyter.widget-view+json": {
              "version_major": 2,
              "version_minor": 0,
              "model_id": "c25c7450dd414f0a9c4abdf19f2fbc80"
            }
          },
          "metadata": {}
        },
        {
          "output_type": "display_data",
          "data": {
            "text/plain": [
              "total_reward:   0%|          | 0/100 [00:00<?, ?it/s]"
            ],
            "application/vnd.jupyter.widget-view+json": {
              "version_major": 2,
              "version_minor": 0,
              "model_id": "7f593d4255a74d0ba09db97bcd982058"
            }
          },
          "metadata": {}
        },
        {
          "output_type": "display_data",
          "data": {
            "text/plain": [
              "<Figure size 500x400 with 1 Axes>"
            ],
            "image/png": "[encoded data removed]"
          },
          "metadata": {
            "image/png": {
              "width": 473,
              "height": 373
            }
          }
        },
        {
          "output_type": "display_data",
          "data": {
            "text/plain": [
              "<Figure size 500x400 with 1 Axes>"
            ],
            "image/png": "[encoded data removed]"
          },
          "metadata": {
            "image/png": {
              "width": 471,
              "height": 375
            }
          }
        }
      ],
      "source": [
        "# Results\n",
        "results = [rand_exp, chemo_exp]\n",
        "names = [\"Rando\", \"Chemo\"]\n",
        "colors = [\"red\", \"blue\"]\n",
        "\n",
        "# Score by eff\n",
        "scores = []\n",
        "for name, res, color in zip(names, results, colors):\n",
        "    r = total_reward(res)\n",
        "    scores.append(r)\n",
        "\n",
        "# Tabulate\n",
        "m, sd = [], []\n",
        "for (name, s, c) in zip(names, scores, colors):\n",
        "    m.append(np.mean(s))\n",
        "    sd.append(np.std(s))\n",
        "\n",
        "# Plot means\n",
        "fig = plt.figure(figsize=(5, 4))\n",
        "plt.bar(names, m, yerr=sd, color=\"black\", alpha=0.6)\n",
        "plt.ylabel(\"Total reward\")\n",
        "plt.tight_layout()\n",
        "sns.despine()\n",
        "\n",
        "# Dists\n",
        "fig = plt.figure(figsize=(5, 4))\n",
        "for (name, s, c) in zip(names, scores, colors):\n",
        "    plt.hist(s, label=name, color=c, alpha=0.5, bins=np.linspace(0, np.max(scores), 15))\n",
        "    plt.legend()\n",
        "    plt.xlabel(\"Score\")\n",
        "    plt.tight_layout()\n",
        "    sns.despine()"
      ]
    },
    {
      "cell_type": "markdown",
      "metadata": {
        "id": "n1-KWIgnn_Rp"
      },
      "source": [
        "---\n",
        "### Question 2.2\n",
        "\n",
        "How do each of our agents perform across the performance measures we have chosen?"
      ]
    },
    {
      "cell_type": "markdown",
      "source": [
        "__Answer:__\n",
        "\n",
        "The chemo agent appears to be doing better by a little."
      ],
      "metadata": {
        "id": "_PbHIhYZIlyK"
      }
    },
    {
      "cell_type": "markdown",
      "source": [
        "---\n",
        "### Question 2.3\n",
        "\n",
        "What explains this difference in performance? Be specific."
      ],
      "metadata": {
        "id": "zaFBT_ICdBwF"
      }
    },
    {
      "cell_type": "markdown",
      "source": [
        "__Answer:__\n",
        "\n",
        "The algorithm by which the chemo agent uses sensory input and picks up on the gradient."
      ],
      "metadata": {
        "id": "E8Crsq0kIo9b"
      }
    },
    {
      "cell_type": "markdown",
      "source": [
        "---\n",
        "### Question 2.4\n",
        "\n",
        "Right now we have set _p neg_ and _p pos_ to 80% and 20% respectively. This means that the probability of stopping a run and tumbling is 80% of the time when a gradient is not increasing and 20% of the time when it is. Let's see how the performance changes when we make the algorithm almost deterministic. Write down the (approximate) performance numbers you have above (total run distance, number of deaths, and total reward), change _p neg_ to 1.00 and _p pos_ to 0.00. This means that whenever the gradient is increasing, our sniff valentino will keep running and when it decreases it will always tumble.\n",
        "\n",
        "Wha the performance of our chemotaxic agent when you make this a deterministic algorithm? Why do you think this change in performance occured? Be specific."
      ],
      "metadata": {
        "id": "NH8VjYWkdvQV"
      }
    },
    {
      "cell_type": "markdown",
      "source": [
        "__Answer:__\n",
        "\n",
        "The chemotaxic agent had a total run distance of approximately 3300, 5 deaths, and total reward of 3.5. I think because the agent immediately jumps when there is a decrease in the gradient, it steers too far away from food. Like, maybe there was just a bit of noise, and it was on the right track to the food, but it just goes in a different direction and potentially misses the food, so there are more deaths. Becuase the agent tumbles much easier in this case, it covers less area which could account for a lower total run distance. Also, if they're are more deaths, then total run distance could be lower because they die."
      ],
      "metadata": {
        "id": "Q2MiK4A9IrFf"
      }
    },
    {
      "cell_type": "markdown",
      "source": [
        "\n",
        "---\n",
        "**IMPORTANT** Did you collaborate with anyone on this assignment, or use LLMs like ChatGPT? If so, list their names here.\n",
        "> *Write Name(s) here*"
      ],
      "metadata": {
        "id": "BkLiElhxI9cg"
      }
    }
  ],
  "metadata": {
    "colab": {
      "provenance": []
    },
    "kernelspec": {
      "display_name": "Python 3 (ipykernel)",
      "language": "python",
      "name": "python3"
    },
    "language_info": {
      "codemirror_mode": {
        "name": "ipython",
        "version": 3
      },
      "file_extension": ".py",
      "mimetype": "text/x-python",
      "name": "python",
      "nbconvert_exporter": "python",
      "pygments_lexer": "ipython3",
      "version": "3.8.3"
    },
    "widgets": {
      "application/vnd.jupyter.widget-state+json": {
        "d4a2eb4771fc4988aa26a1a956885eca": {
          "model_module": "@jupyter-widgets/controls",
          "model_name": "HBoxModel",
          "model_module_version": "1.5.0",
          "state": {
            "_dom_classes": [],
            "_model_module": "@jupyter-widgets/controls",
            "_model_module_version": "1.5.0",
            "_model_name": "HBoxModel",
            "_view_count": null,
            "_view_module": "@jupyter-widgets/controls",
            "_view_module_version": "1.5.0",
            "_view_name": "HBoxView",
            "box_style": "",
            "children": [
              "IPY_MODEL_7114e770f1d7464790a6e958952d2ba8",
              "IPY_MODEL_d4da06f073f9489fabd42f36c803fa08",
              "IPY_MODEL_37432dd0c01a4f4b9d408ca917dc7b81"
            ],
            "layout": "IPY_MODEL_66f43a797fc44f9a90861d2e7fc569cc"
          }
        },
        "7114e770f1d7464790a6e958952d2ba8": {
          "model_module": "@jupyter-widgets/controls",
          "model_name": "HTMLModel",
          "model_module_version": "1.5.0",
          "state": {
            "_dom_classes": [],
            "_model_module": "@jupyter-widgets/controls",
            "_model_module_version": "1.5.0",
            "_model_name": "HTMLModel",
            "_view_count": null,
            "_view_module": "@jupyter-widgets/controls",
            "_view_module_version": "1.5.0",
            "_view_name": "HTMLView",
            "description": "",
            "description_tooltip": null,
            "layout": "IPY_MODEL_7b615cf6988c4887a7c4ff3eb7ca17d6",
            "placeholder": "​",
            "style": "IPY_MODEL_3bc0f014693b4b8ba3116224b0e75e9f",
            "value": "rand: 100%"
          }
        },
        "d4da06f073f9489fabd42f36c803fa08": {
          "model_module": "@jupyter-widgets/controls",
          "model_name": "FloatProgressModel",
          "model_module_version": "1.5.0",
          "state": {
            "_dom_classes": [],
            "_model_module": "@jupyter-widgets/controls",
            "_model_module_version": "1.5.0",
            "_model_name": "FloatProgressModel",
            "_view_count": null,
            "_view_module": "@jupyter-widgets/controls",
            "_view_module_version": "1.5.0",
            "_view_name": "ProgressView",
            "bar_style": "success",
            "description": "",
            "description_tooltip": null,
            "layout": "IPY_MODEL_876426be0c9245b1871246a63df69d92",
            "max": 100,
            "min": 0,
            "orientation": "horizontal",
            "style": "IPY_MODEL_8e5dba5636a04c4ba2aeeac6c5c00389",
            "value": 100
          }
        },
        "37432dd0c01a4f4b9d408ca917dc7b81": {
          "model_module": "@jupyter-widgets/controls",
          "model_name": "HTMLModel",
          "model_module_version": "1.5.0",
          "state": {
            "_dom_classes": [],
            "_model_module": "@jupyter-widgets/controls",
            "_model_module_version": "1.5.0",
            "_model_name": "HTMLModel",
            "_view_count": null,
            "_view_module": "@jupyter-widgets/controls",
            "_view_module_version": "1.5.0",
            "_view_name": "HTMLView",
            "description": "",
            "description_tooltip": null,
            "layout": "IPY_MODEL_f5c3c502cd124fb7aca9c37c92aab68e",
            "placeholder": "​",
            "style": "IPY_MODEL_be0b97dd476d43e483f6705eb89945bb",
            "value": " 100/100 [00:40&lt;00:00,  2.64it/s]"
          }
        },
        "66f43a797fc44f9a90861d2e7fc569cc": {
          "model_module": "@jupyter-widgets/base",
          "model_name": "LayoutModel",
          "model_module_version": "1.2.0",
          "state": {
            "_model_module": "@jupyter-widgets/base",
            "_model_module_version": "1.2.0",
            "_model_name": "LayoutModel",
            "_view_count": null,
            "_view_module": "@jupyter-widgets/base",
            "_view_module_version": "1.2.0",
            "_view_name": "LayoutView",
            "align_content": null,
            "align_items": null,
            "align_self": null,
            "border": null,
            "bottom": null,
            "display": null,
            "flex": null,
            "flex_flow": null,
            "grid_area": null,
            "grid_auto_columns": null,
            "grid_auto_flow": null,
            "grid_auto_rows": null,
            "grid_column": null,
            "grid_gap": null,
            "grid_row": null,
            "grid_template_areas": null,
            "grid_template_columns": null,
            "grid_template_rows": null,
            "height": null,
            "justify_content": null,
            "justify_items": null,
            "left": null,
            "margin": null,
            "max_height": null,
            "max_width": null,
            "min_height": null,
            "min_width": null,
            "object_fit": null,
            "object_position": null,
            "order": null,
            "overflow": null,
            "overflow_x": null,
            "overflow_y": null,
            "padding": null,
            "right": null,
            "top": null,
            "visibility": null,
            "width": null
          }
        },
        "7b615cf6988c4887a7c4ff3eb7ca17d6": {
          "model_module": "@jupyter-widgets/base",
          "model_name": "LayoutModel",
          "model_module_version": "1.2.0",
          "state": {
            "_model_module": "@jupyter-widgets/base",
            "_model_module_version": "1.2.0",
            "_model_name": "LayoutModel",
            "_view_count": null,
            "_view_module": "@jupyter-widgets/base",
            "_view_module_version": "1.2.0",
            "_view_name": "LayoutView",
            "align_content": null,
            "align_items": null,
            "align_self": null,
            "border": null,
            "bottom": null,
            "display": null,
            "flex": null,
            "flex_flow": null,
            "grid_area": null,
            "grid_auto_columns": null,
            "grid_auto_flow": null,
            "grid_auto_rows": null,
            "grid_column": null,
            "grid_gap": null,
            "grid_row": null,
            "grid_template_areas": null,
            "grid_template_columns": null,
            "grid_template_rows": null,
            "height": null,
            "justify_content": null,
            "justify_items": null,
            "left": null,
            "margin": null,
            "max_height": null,
            "max_width": null,
            "min_height": null,
            "min_width": null,
            "object_fit": null,
            "object_position": null,
            "order": null,
            "overflow": null,
            "overflow_x": null,
            "overflow_y": null,
            "padding": null,
            "right": null,
            "top": null,
            "visibility": null,
            "width": null
          }
        },
        "3bc0f014693b4b8ba3116224b0e75e9f": {
          "model_module": "@jupyter-widgets/controls",
          "model_name": "DescriptionStyleModel",
          "model_module_version": "1.5.0",
          "state": {
            "_model_module": "@jupyter-widgets/controls",
            "_model_module_version": "1.5.0",
            "_model_name": "DescriptionStyleModel",
            "_view_count": null,
            "_view_module": "@jupyter-widgets/base",
            "_view_module_version": "1.2.0",
            "_view_name": "StyleView",
            "description_width": ""
          }
        },
        "876426be0c9245b1871246a63df69d92": {
          "model_module": "@jupyter-widgets/base",
          "model_name": "LayoutModel",
          "model_module_version": "1.2.0",
          "state": {
            "_model_module": "@jupyter-widgets/base",
            "_model_module_version": "1.2.0",
            "_model_name": "LayoutModel",
            "_view_count": null,
            "_view_module": "@jupyter-widgets/base",
            "_view_module_version": "1.2.0",
            "_view_name": "LayoutView",
            "align_content": null,
            "align_items": null,
            "align_self": null,
            "border": null,
            "bottom": null,
            "display": null,
            "flex": null,
            "flex_flow": null,
            "grid_area": null,
            "grid_auto_columns": null,
            "grid_auto_flow": null,
            "grid_auto_rows": null,
            "grid_column": null,
            "grid_gap": null,
            "grid_row": null,
            "grid_template_areas": null,
            "grid_template_columns": null,
            "grid_template_rows": null,
            "height": null,
            "justify_content": null,
            "justify_items": null,
            "left": null,
            "margin": null,
            "max_height": null,
            "max_width": null,
            "min_height": null,
            "min_width": null,
            "object_fit": null,
            "object_position": null,
            "order": null,
            "overflow": null,
            "overflow_x": null,
            "overflow_y": null,
            "padding": null,
            "right": null,
            "top": null,
            "visibility": null,
            "width": null
          }
        },
        "8e5dba5636a04c4ba2aeeac6c5c00389": {
          "model_module": "@jupyter-widgets/controls",
          "model_name": "ProgressStyleModel",
          "model_module_version": "1.5.0",
          "state": {
            "_model_module": "@jupyter-widgets/controls",
            "_model_module_version": "1.5.0",
            "_model_name": "ProgressStyleModel",
            "_view_count": null,
            "_view_module": "@jupyter-widgets/base",
            "_view_module_version": "1.2.0",
            "_view_name": "StyleView",
            "bar_color": null,
            "description_width": ""
          }
        },
        "f5c3c502cd124fb7aca9c37c92aab68e": {
          "model_module": "@jupyter-widgets/base",
          "model_name": "LayoutModel",
          "model_module_version": "1.2.0",
          "state": {
            "_model_module": "@jupyter-widgets/base",
            "_model_module_version": "1.2.0",
            "_model_name": "LayoutModel",
            "_view_count": null,
            "_view_module": "@jupyter-widgets/base",
            "_view_module_version": "1.2.0",
            "_view_name": "LayoutView",
            "align_content": null,
            "align_items": null,
            "align_self": null,
            "border": null,
            "bottom": null,
            "display": null,
            "flex": null,
            "flex_flow": null,
            "grid_area": null,
            "grid_auto_columns": null,
            "grid_auto_flow": null,
            "grid_auto_rows": null,
            "grid_column": null,
            "grid_gap": null,
            "grid_row": null,
            "grid_template_areas": null,
            "grid_template_columns": null,
            "grid_template_rows": null,
            "height": null,
            "justify_content": null,
            "justify_items": null,
            "left": null,
            "margin": null,
            "max_height": null,
            "max_width": null,
            "min_height": null,
            "min_width": null,
            "object_fit": null,
            "object_position": null,
            "order": null,
            "overflow": null,
            "overflow_x": null,
            "overflow_y": null,
            "padding": null,
            "right": null,
            "top": null,
            "visibility": null,
            "width": null
          }
        },
        "be0b97dd476d43e483f6705eb89945bb": {
          "model_module": "@jupyter-widgets/controls",
          "model_name": "DescriptionStyleModel",
          "model_module_version": "1.5.0",
          "state": {
            "_model_module": "@jupyter-widgets/controls",
            "_model_module_version": "1.5.0",
            "_model_name": "DescriptionStyleModel",
            "_view_count": null,
            "_view_module": "@jupyter-widgets/base",
            "_view_module_version": "1.2.0",
            "_view_name": "StyleView",
            "description_width": ""
          }
        },
        "8614497cc6ab42f2ae0d90c27328de08": {
          "model_module": "@jupyter-widgets/controls",
          "model_name": "HBoxModel",
          "model_module_version": "1.5.0",
          "state": {
            "_dom_classes": [],
            "_model_module": "@jupyter-widgets/controls",
            "_model_module_version": "1.5.0",
            "_model_name": "HBoxModel",
            "_view_count": null,
            "_view_module": "@jupyter-widgets/controls",
            "_view_module_version": "1.5.0",
            "_view_name": "HBoxView",
            "box_style": "",
            "children": [
              "IPY_MODEL_0fed378ba7cd44d08f6a3a53a7966c35",
              "IPY_MODEL_4ea03983ce14429fa16563b8c510bed2",
              "IPY_MODEL_51a8d5ba98184eebab4b4aff1be4c03e"
            ],
            "layout": "IPY_MODEL_9d7adf15b0ce460298e2e75e4418cfa0"
          }
        },
        "0fed378ba7cd44d08f6a3a53a7966c35": {
          "model_module": "@jupyter-widgets/controls",
          "model_name": "HTMLModel",
          "model_module_version": "1.5.0",
          "state": {
            "_dom_classes": [],
            "_model_module": "@jupyter-widgets/controls",
            "_model_module_version": "1.5.0",
            "_model_name": "HTMLModel",
            "_view_count": null,
            "_view_module": "@jupyter-widgets/controls",
            "_view_module_version": "1.5.0",
            "_view_name": "HTMLView",
            "description": "",
            "description_tooltip": null,
            "layout": "IPY_MODEL_42a061a690ed42d092bedbde3b05dcc5",
            "placeholder": "​",
            "style": "IPY_MODEL_5cf36d9322624e8e86771e0b96e19c86",
            "value": "chemo: 100%"
          }
        },
        "4ea03983ce14429fa16563b8c510bed2": {
          "model_module": "@jupyter-widgets/controls",
          "model_name": "FloatProgressModel",
          "model_module_version": "1.5.0",
          "state": {
            "_dom_classes": [],
            "_model_module": "@jupyter-widgets/controls",
            "_model_module_version": "1.5.0",
            "_model_name": "FloatProgressModel",
            "_view_count": null,
            "_view_module": "@jupyter-widgets/controls",
            "_view_module_version": "1.5.0",
            "_view_name": "ProgressView",
            "bar_style": "success",
            "description": "",
            "description_tooltip": null,
            "layout": "IPY_MODEL_4aac2384295c43a3858b90ce11636c3a",
            "max": 100,
            "min": 0,
            "orientation": "horizontal",
            "style": "IPY_MODEL_da318ffbebb94137998f2320b1837fdd",
            "value": 100
          }
        },
        "51a8d5ba98184eebab4b4aff1be4c03e": {
          "model_module": "@jupyter-widgets/controls",
          "model_name": "HTMLModel",
          "model_module_version": "1.5.0",
          "state": {
            "_dom_classes": [],
            "_model_module": "@jupyter-widgets/controls",
            "_model_module_version": "1.5.0",
            "_model_name": "HTMLModel",
            "_view_count": null,
            "_view_module": "@jupyter-widgets/controls",
            "_view_module_version": "1.5.0",
            "_view_name": "HTMLView",
            "description": "",
            "description_tooltip": null,
            "layout": "IPY_MODEL_7d1637fe7d1b42a3855c88e18dbb3961",
            "placeholder": "​",
            "style": "IPY_MODEL_886573f369604b2081852c744e0506eb",
            "value": " 100/100 [00:42&lt;00:00,  2.70it/s]"
          }
        },
        "9d7adf15b0ce460298e2e75e4418cfa0": {
          "model_module": "@jupyter-widgets/base",
          "model_name": "LayoutModel",
          "model_module_version": "1.2.0",
          "state": {
            "_model_module": "@jupyter-widgets/base",
            "_model_module_version": "1.2.0",
            "_model_name": "LayoutModel",
            "_view_count": null,
            "_view_module": "@jupyter-widgets/base",
            "_view_module_version": "1.2.0",
            "_view_name": "LayoutView",
            "align_content": null,
            "align_items": null,
            "align_self": null,
            "border": null,
            "bottom": null,
            "display": null,
            "flex": null,
            "flex_flow": null,
            "grid_area": null,
            "grid_auto_columns": null,
            "grid_auto_flow": null,
            "grid_auto_rows": null,
            "grid_column": null,
            "grid_gap": null,
            "grid_row": null,
            "grid_template_areas": null,
            "grid_template_columns": null,
            "grid_template_rows": null,
            "height": null,
            "justify_content": null,
            "justify_items": null,
            "left": null,
            "margin": null,
            "max_height": null,
            "max_width": null,
            "min_height": null,
            "min_width": null,
            "object_fit": null,
            "object_position": null,
            "order": null,
            "overflow": null,
            "overflow_x": null,
            "overflow_y": null,
            "padding": null,
            "right": null,
            "top": null,
            "visibility": null,
            "width": null
          }
        },
        "42a061a690ed42d092bedbde3b05dcc5": {
          "model_module": "@jupyter-widgets/base",
          "model_name": "LayoutModel",
          "model_module_version": "1.2.0",
          "state": {
            "_model_module": "@jupyter-widgets/base",
            "_model_module_version": "1.2.0",
            "_model_name": "LayoutModel",
            "_view_count": null,
            "_view_module": "@jupyter-widgets/base",
            "_view_module_version": "1.2.0",
            "_view_name": "LayoutView",
            "align_content": null,
            "align_items": null,
            "align_self": null,
            "border": null,
            "bottom": null,
            "display": null,
            "flex": null,
            "flex_flow": null,
            "grid_area": null,
            "grid_auto_columns": null,
            "grid_auto_flow": null,
            "grid_auto_rows": null,
            "grid_column": null,
            "grid_gap": null,
            "grid_row": null,
            "grid_template_areas": null,
            "grid_template_columns": null,
            "grid_template_rows": null,
            "height": null,
            "justify_content": null,
            "justify_items": null,
            "left": null,
            "margin": null,
            "max_height": null,
            "max_width": null,
            "min_height": null,
            "min_width": null,
            "object_fit": null,
            "object_position": null,
            "order": null,
            "overflow": null,
            "overflow_x": null,
            "overflow_y": null,
            "padding": null,
            "right": null,
            "top": null,
            "visibility": null,
            "width": null
          }
        },
        "5cf36d9322624e8e86771e0b96e19c86": {
          "model_module": "@jupyter-widgets/controls",
          "model_name": "DescriptionStyleModel",
          "model_module_version": "1.5.0",
          "state": {
            "_model_module": "@jupyter-widgets/controls",
            "_model_module_version": "1.5.0",
            "_model_name": "DescriptionStyleModel",
            "_view_count": null,
            "_view_module": "@jupyter-widgets/base",
            "_view_module_version": "1.2.0",
            "_view_name": "StyleView",
            "description_width": ""
          }
        },
        "4aac2384295c43a3858b90ce11636c3a": {
          "model_module": "@jupyter-widgets/base",
          "model_name": "LayoutModel",
          "model_module_version": "1.2.0",
          "state": {
            "_model_module": "@jupyter-widgets/base",
            "_model_module_version": "1.2.0",
            "_model_name": "LayoutModel",
            "_view_count": null,
            "_view_module": "@jupyter-widgets/base",
            "_view_module_version": "1.2.0",
            "_view_name": "LayoutView",
            "align_content": null,
            "align_items": null,
            "align_self": null,
            "border": null,
            "bottom": null,
            "display": null,
            "flex": null,
            "flex_flow": null,
            "grid_area": null,
            "grid_auto_columns": null,
            "grid_auto_flow": null,
            "grid_auto_rows": null,
            "grid_column": null,
            "grid_gap": null,
            "grid_row": null,
            "grid_template_areas": null,
            "grid_template_columns": null,
            "grid_template_rows": null,
            "height": null,
            "justify_content": null,
            "justify_items": null,
            "left": null,
            "margin": null,
            "max_height": null,
            "max_width": null,
            "min_height": null,
            "min_width": null,
            "object_fit": null,
            "object_position": null,
            "order": null,
            "overflow": null,
            "overflow_x": null,
            "overflow_y": null,
            "padding": null,
            "right": null,
            "top": null,
            "visibility": null,
            "width": null
          }
        },
        "da318ffbebb94137998f2320b1837fdd": {
          "model_module": "@jupyter-widgets/controls",
          "model_name": "ProgressStyleModel",
          "model_module_version": "1.5.0",
          "state": {
            "_model_module": "@jupyter-widgets/controls",
            "_model_module_version": "1.5.0",
            "_model_name": "ProgressStyleModel",
            "_view_count": null,
            "_view_module": "@jupyter-widgets/base",
            "_view_module_version": "1.2.0",
            "_view_name": "StyleView",
            "bar_color": null,
            "description_width": ""
          }
        },
        "7d1637fe7d1b42a3855c88e18dbb3961": {
          "model_module": "@jupyter-widgets/base",
          "model_name": "LayoutModel",
          "model_module_version": "1.2.0",
          "state": {
            "_model_module": "@jupyter-widgets/base",
            "_model_module_version": "1.2.0",
            "_model_name": "LayoutModel",
            "_view_count": null,
            "_view_module": "@jupyter-widgets/base",
            "_view_module_version": "1.2.0",
            "_view_name": "LayoutView",
            "align_content": null,
            "align_items": null,
            "align_self": null,
            "border": null,
            "bottom": null,
            "display": null,
            "flex": null,
            "flex_flow": null,
            "grid_area": null,
            "grid_auto_columns": null,
            "grid_auto_flow": null,
            "grid_auto_rows": null,
            "grid_column": null,
            "grid_gap": null,
            "grid_row": null,
            "grid_template_areas": null,
            "grid_template_columns": null,
            "grid_template_rows": null,
            "height": null,
            "justify_content": null,
            "justify_items": null,
            "left": null,
            "margin": null,
            "max_height": null,
            "max_width": null,
            "min_height": null,
            "min_width": null,
            "object_fit": null,
            "object_position": null,
            "order": null,
            "overflow": null,
            "overflow_x": null,
            "overflow_y": null,
            "padding": null,
            "right": null,
            "top": null,
            "visibility": null,
            "width": null
          }
        },
        "886573f369604b2081852c744e0506eb": {
          "model_module": "@jupyter-widgets/controls",
          "model_name": "DescriptionStyleModel",
          "model_module_version": "1.5.0",
          "state": {
            "_model_module": "@jupyter-widgets/controls",
            "_model_module_version": "1.5.0",
            "_model_name": "DescriptionStyleModel",
            "_view_count": null,
            "_view_module": "@jupyter-widgets/base",
            "_view_module_version": "1.2.0",
            "_view_name": "StyleView",
            "description_width": ""
          }
        },
        "cd772d444e4247749867fb593362cc6a": {
          "model_module": "@jupyter-widgets/controls",
          "model_name": "HBoxModel",
          "model_module_version": "1.5.0",
          "state": {
            "_dom_classes": [],
            "_model_module": "@jupyter-widgets/controls",
            "_model_module_version": "1.5.0",
            "_model_name": "HBoxModel",
            "_view_count": null,
            "_view_module": "@jupyter-widgets/controls",
            "_view_module_version": "1.5.0",
            "_view_name": "HBoxView",
            "box_style": "",
            "children": [
              "IPY_MODEL_61d408a7bde24e3cb88ab6fe43236fe7",
              "IPY_MODEL_bebe0f9a6a0b41ff84c574642b17761f",
              "IPY_MODEL_c15ee0b579e944c68ec1924cd3168d7d"
            ],
            "layout": "IPY_MODEL_d1772d7c87914c6b8d218831c64f6918"
          }
        },
        "61d408a7bde24e3cb88ab6fe43236fe7": {
          "model_module": "@jupyter-widgets/controls",
          "model_name": "HTMLModel",
          "model_module_version": "1.5.0",
          "state": {
            "_dom_classes": [],
            "_model_module": "@jupyter-widgets/controls",
            "_model_module_version": "1.5.0",
            "_model_name": "HTMLModel",
            "_view_count": null,
            "_view_module": "@jupyter-widgets/controls",
            "_view_module_version": "1.5.0",
            "_view_name": "HTMLView",
            "description": "",
            "description_tooltip": null,
            "layout": "IPY_MODEL_5a39e8f29f23453b987a1f11e31d2adb",
            "placeholder": "​",
            "style": "IPY_MODEL_defcf80a103e490680a8ac99dbd42c37",
            "value": "num_death: 100%"
          }
        },
        "bebe0f9a6a0b41ff84c574642b17761f": {
          "model_module": "@jupyter-widgets/controls",
          "model_name": "FloatProgressModel",
          "model_module_version": "1.5.0",
          "state": {
            "_dom_classes": [],
            "_model_module": "@jupyter-widgets/controls",
            "_model_module_version": "1.5.0",
            "_model_name": "FloatProgressModel",
            "_view_count": null,
            "_view_module": "@jupyter-widgets/controls",
            "_view_module_version": "1.5.0",
            "_view_name": "ProgressView",
            "bar_style": "success",
            "description": "",
            "description_tooltip": null,
            "layout": "IPY_MODEL_021e2d03ff174747bae6a908fd1d3492",
            "max": 100,
            "min": 0,
            "orientation": "horizontal",
            "style": "IPY_MODEL_69ebe1d177534138a95912419ca9fc80",
            "value": 100
          }
        },
        "c15ee0b579e944c68ec1924cd3168d7d": {
          "model_module": "@jupyter-widgets/controls",
          "model_name": "HTMLModel",
          "model_module_version": "1.5.0",
          "state": {
            "_dom_classes": [],
            "_model_module": "@jupyter-widgets/controls",
            "_model_module_version": "1.5.0",
            "_model_name": "HTMLModel",
            "_view_count": null,
            "_view_module": "@jupyter-widgets/controls",
            "_view_module_version": "1.5.0",
            "_view_name": "HTMLView",
            "description": "",
            "description_tooltip": null,
            "layout": "IPY_MODEL_749e015a86074fa685a8eab501018714",
            "placeholder": "​",
            "style": "IPY_MODEL_37e64442e95a41c98a4ef01cac653d38",
            "value": " 100/100 [00:00&lt;00:00, 2438.99it/s]"
          }
        },
        "d1772d7c87914c6b8d218831c64f6918": {
          "model_module": "@jupyter-widgets/base",
          "model_name": "LayoutModel",
          "model_module_version": "1.2.0",
          "state": {
            "_model_module": "@jupyter-widgets/base",
            "_model_module_version": "1.2.0",
            "_model_name": "LayoutModel",
            "_view_count": null,
            "_view_module": "@jupyter-widgets/base",
            "_view_module_version": "1.2.0",
            "_view_name": "LayoutView",
            "align_content": null,
            "align_items": null,
            "align_self": null,
            "border": null,
            "bottom": null,
            "display": null,
            "flex": null,
            "flex_flow": null,
            "grid_area": null,
            "grid_auto_columns": null,
            "grid_auto_flow": null,
            "grid_auto_rows": null,
            "grid_column": null,
            "grid_gap": null,
            "grid_row": null,
            "grid_template_areas": null,
            "grid_template_columns": null,
            "grid_template_rows": null,
            "height": null,
            "justify_content": null,
            "justify_items": null,
            "left": null,
            "margin": null,
            "max_height": null,
            "max_width": null,
            "min_height": null,
            "min_width": null,
            "object_fit": null,
            "object_position": null,
            "order": null,
            "overflow": null,
            "overflow_x": null,
            "overflow_y": null,
            "padding": null,
            "right": null,
            "top": null,
            "visibility": null,
            "width": null
          }
        },
        "5a39e8f29f23453b987a1f11e31d2adb": {
          "model_module": "@jupyter-widgets/base",
          "model_name": "LayoutModel",
          "model_module_version": "1.2.0",
          "state": {
            "_model_module": "@jupyter-widgets/base",
            "_model_module_version": "1.2.0",
            "_model_name": "LayoutModel",
            "_view_count": null,
            "_view_module": "@jupyter-widgets/base",
            "_view_module_version": "1.2.0",
            "_view_name": "LayoutView",
            "align_content": null,
            "align_items": null,
            "align_self": null,
            "border": null,
            "bottom": null,
            "display": null,
            "flex": null,
            "flex_flow": null,
            "grid_area": null,
            "grid_auto_columns": null,
            "grid_auto_flow": null,
            "grid_auto_rows": null,
            "grid_column": null,
            "grid_gap": null,
            "grid_row": null,
            "grid_template_areas": null,
            "grid_template_columns": null,
            "grid_template_rows": null,
            "height": null,
            "justify_content": null,
            "justify_items": null,
            "left": null,
            "margin": null,
            "max_height": null,
            "max_width": null,
            "min_height": null,
            "min_width": null,
            "object_fit": null,
            "object_position": null,
            "order": null,
            "overflow": null,
            "overflow_x": null,
            "overflow_y": null,
            "padding": null,
            "right": null,
            "top": null,
            "visibility": null,
            "width": null
          }
        },
        "defcf80a103e490680a8ac99dbd42c37": {
          "model_module": "@jupyter-widgets/controls",
          "model_name": "DescriptionStyleModel",
          "model_module_version": "1.5.0",
          "state": {
            "_model_module": "@jupyter-widgets/controls",
            "_model_module_version": "1.5.0",
            "_model_name": "DescriptionStyleModel",
            "_view_count": null,
            "_view_module": "@jupyter-widgets/base",
            "_view_module_version": "1.2.0",
            "_view_name": "StyleView",
            "description_width": ""
          }
        },
        "021e2d03ff174747bae6a908fd1d3492": {
          "model_module": "@jupyter-widgets/base",
          "model_name": "LayoutModel",
          "model_module_version": "1.2.0",
          "state": {
            "_model_module": "@jupyter-widgets/base",
            "_model_module_version": "1.2.0",
            "_model_name": "LayoutModel",
            "_view_count": null,
            "_view_module": "@jupyter-widgets/base",
            "_view_module_version": "1.2.0",
            "_view_name": "LayoutView",
            "align_content": null,
            "align_items": null,
            "align_self": null,
            "border": null,
            "bottom": null,
            "display": null,
            "flex": null,
            "flex_flow": null,
            "grid_area": null,
            "grid_auto_columns": null,
            "grid_auto_flow": null,
            "grid_auto_rows": null,
            "grid_column": null,
            "grid_gap": null,
            "grid_row": null,
            "grid_template_areas": null,
            "grid_template_columns": null,
            "grid_template_rows": null,
            "height": null,
            "justify_content": null,
            "justify_items": null,
            "left": null,
            "margin": null,
            "max_height": null,
            "max_width": null,
            "min_height": null,
            "min_width": null,
            "object_fit": null,
            "object_position": null,
            "order": null,
            "overflow": null,
            "overflow_x": null,
            "overflow_y": null,
            "padding": null,
            "right": null,
            "top": null,
            "visibility": null,
            "width": null
          }
        },
        "69ebe1d177534138a95912419ca9fc80": {
          "model_module": "@jupyter-widgets/controls",
          "model_name": "ProgressStyleModel",
          "model_module_version": "1.5.0",
          "state": {
            "_model_module": "@jupyter-widgets/controls",
            "_model_module_version": "1.5.0",
            "_model_name": "ProgressStyleModel",
            "_view_count": null,
            "_view_module": "@jupyter-widgets/base",
            "_view_module_version": "1.2.0",
            "_view_name": "StyleView",
            "bar_color": null,
            "description_width": ""
          }
        },
        "749e015a86074fa685a8eab501018714": {
          "model_module": "@jupyter-widgets/base",
          "model_name": "LayoutModel",
          "model_module_version": "1.2.0",
          "state": {
            "_model_module": "@jupyter-widgets/base",
            "_model_module_version": "1.2.0",
            "_model_name": "LayoutModel",
            "_view_count": null,
            "_view_module": "@jupyter-widgets/base",
            "_view_module_version": "1.2.0",
            "_view_name": "LayoutView",
            "align_content": null,
            "align_items": null,
            "align_self": null,
            "border": null,
            "bottom": null,
            "display": null,
            "flex": null,
            "flex_flow": null,
            "grid_area": null,
            "grid_auto_columns": null,
            "grid_auto_flow": null,
            "grid_auto_rows": null,
            "grid_column": null,
            "grid_gap": null,
            "grid_row": null,
            "grid_template_areas": null,
            "grid_template_columns": null,
            "grid_template_rows": null,
            "height": null,
            "justify_content": null,
            "justify_items": null,
            "left": null,
            "margin": null,
            "max_height": null,
            "max_width": null,
            "min_height": null,
            "min_width": null,
            "object_fit": null,
            "object_position": null,
            "order": null,
            "overflow": null,
            "overflow_x": null,
            "overflow_y": null,
            "padding": null,
            "right": null,
            "top": null,
            "visibility": null,
            "width": null
          }
        },
        "37e64442e95a41c98a4ef01cac653d38": {
          "model_module": "@jupyter-widgets/controls",
          "model_name": "DescriptionStyleModel",
          "model_module_version": "1.5.0",
          "state": {
            "_model_module": "@jupyter-widgets/controls",
            "_model_module_version": "1.5.0",
            "_model_name": "DescriptionStyleModel",
            "_view_count": null,
            "_view_module": "@jupyter-widgets/base",
            "_view_module_version": "1.2.0",
            "_view_name": "StyleView",
            "description_width": ""
          }
        },
        "197b5361d9af4d2081e978a2fb7131f6": {
          "model_module": "@jupyter-widgets/controls",
          "model_name": "HBoxModel",
          "model_module_version": "1.5.0",
          "state": {
            "_dom_classes": [],
            "_model_module": "@jupyter-widgets/controls",
            "_model_module_version": "1.5.0",
            "_model_name": "HBoxModel",
            "_view_count": null,
            "_view_module": "@jupyter-widgets/controls",
            "_view_module_version": "1.5.0",
            "_view_name": "HBoxView",
            "box_style": "",
            "children": [
              "IPY_MODEL_12b3607502474bcab1b497711abbc905",
              "IPY_MODEL_4acaaa5df14b41fab043c2d54fb5e86a",
              "IPY_MODEL_f1507424ad8f4558a2278f0cf69d4e22"
            ],
            "layout": "IPY_MODEL_0b9d81b2023c4da4b67d09fee00add08"
          }
        },
        "12b3607502474bcab1b497711abbc905": {
          "model_module": "@jupyter-widgets/controls",
          "model_name": "HTMLModel",
          "model_module_version": "1.5.0",
          "state": {
            "_dom_classes": [],
            "_model_module": "@jupyter-widgets/controls",
            "_model_module_version": "1.5.0",
            "_model_name": "HTMLModel",
            "_view_count": null,
            "_view_module": "@jupyter-widgets/controls",
            "_view_module_version": "1.5.0",
            "_view_name": "HTMLView",
            "description": "",
            "description_tooltip": null,
            "layout": "IPY_MODEL_70ec23004c23486ba7978cadb2a44372",
            "placeholder": "​",
            "style": "IPY_MODEL_aaf0c1bc49b640169a985d1393c2267f",
            "value": "num_death: 100%"
          }
        },
        "4acaaa5df14b41fab043c2d54fb5e86a": {
          "model_module": "@jupyter-widgets/controls",
          "model_name": "FloatProgressModel",
          "model_module_version": "1.5.0",
          "state": {
            "_dom_classes": [],
            "_model_module": "@jupyter-widgets/controls",
            "_model_module_version": "1.5.0",
            "_model_name": "FloatProgressModel",
            "_view_count": null,
            "_view_module": "@jupyter-widgets/controls",
            "_view_module_version": "1.5.0",
            "_view_name": "ProgressView",
            "bar_style": "success",
            "description": "",
            "description_tooltip": null,
            "layout": "IPY_MODEL_9996cd6f33174b5f9c7956a7aaca42cb",
            "max": 100,
            "min": 0,
            "orientation": "horizontal",
            "style": "IPY_MODEL_bac660e47e564b649d853154a161687a",
            "value": 100
          }
        },
        "f1507424ad8f4558a2278f0cf69d4e22": {
          "model_module": "@jupyter-widgets/controls",
          "model_name": "HTMLModel",
          "model_module_version": "1.5.0",
          "state": {
            "_dom_classes": [],
            "_model_module": "@jupyter-widgets/controls",
            "_model_module_version": "1.5.0",
            "_model_name": "HTMLModel",
            "_view_count": null,
            "_view_module": "@jupyter-widgets/controls",
            "_view_module_version": "1.5.0",
            "_view_name": "HTMLView",
            "description": "",
            "description_tooltip": null,
            "layout": "IPY_MODEL_57105ebb88eb438898cb392166f72394",
            "placeholder": "​",
            "style": "IPY_MODEL_41201bc6532146b2ab2b236637889779",
            "value": " 100/100 [00:00&lt;00:00, 3458.08it/s]"
          }
        },
        "0b9d81b2023c4da4b67d09fee00add08": {
          "model_module": "@jupyter-widgets/base",
          "model_name": "LayoutModel",
          "model_module_version": "1.2.0",
          "state": {
            "_model_module": "@jupyter-widgets/base",
            "_model_module_version": "1.2.0",
            "_model_name": "LayoutModel",
            "_view_count": null,
            "_view_module": "@jupyter-widgets/base",
            "_view_module_version": "1.2.0",
            "_view_name": "LayoutView",
            "align_content": null,
            "align_items": null,
            "align_self": null,
            "border": null,
            "bottom": null,
            "display": null,
            "flex": null,
            "flex_flow": null,
            "grid_area": null,
            "grid_auto_columns": null,
            "grid_auto_flow": null,
            "grid_auto_rows": null,
            "grid_column": null,
            "grid_gap": null,
            "grid_row": null,
            "grid_template_areas": null,
            "grid_template_columns": null,
            "grid_template_rows": null,
            "height": null,
            "justify_content": null,
            "justify_items": null,
            "left": null,
            "margin": null,
            "max_height": null,
            "max_width": null,
            "min_height": null,
            "min_width": null,
            "object_fit": null,
            "object_position": null,
            "order": null,
            "overflow": null,
            "overflow_x": null,
            "overflow_y": null,
            "padding": null,
            "right": null,
            "top": null,
            "visibility": null,
            "width": null
          }
        },
        "70ec23004c23486ba7978cadb2a44372": {
          "model_module": "@jupyter-widgets/base",
          "model_name": "LayoutModel",
          "model_module_version": "1.2.0",
          "state": {
            "_model_module": "@jupyter-widgets/base",
            "_model_module_version": "1.2.0",
            "_model_name": "LayoutModel",
            "_view_count": null,
            "_view_module": "@jupyter-widgets/base",
            "_view_module_version": "1.2.0",
            "_view_name": "LayoutView",
            "align_content": null,
            "align_items": null,
            "align_self": null,
            "border": null,
            "bottom": null,
            "display": null,
            "flex": null,
            "flex_flow": null,
            "grid_area": null,
            "grid_auto_columns": null,
            "grid_auto_flow": null,
            "grid_auto_rows": null,
            "grid_column": null,
            "grid_gap": null,
            "grid_row": null,
            "grid_template_areas": null,
            "grid_template_columns": null,
            "grid_template_rows": null,
            "height": null,
            "justify_content": null,
            "justify_items": null,
            "left": null,
            "margin": null,
            "max_height": null,
            "max_width": null,
            "min_height": null,
            "min_width": null,
            "object_fit": null,
            "object_position": null,
            "order": null,
            "overflow": null,
            "overflow_x": null,
            "overflow_y": null,
            "padding": null,
            "right": null,
            "top": null,
            "visibility": null,
            "width": null
          }
        },
        "aaf0c1bc49b640169a985d1393c2267f": {
          "model_module": "@jupyter-widgets/controls",
          "model_name": "DescriptionStyleModel",
          "model_module_version": "1.5.0",
          "state": {
            "_model_module": "@jupyter-widgets/controls",
            "_model_module_version": "1.5.0",
            "_model_name": "DescriptionStyleModel",
            "_view_count": null,
            "_view_module": "@jupyter-widgets/base",
            "_view_module_version": "1.2.0",
            "_view_name": "StyleView",
            "description_width": ""
          }
        },
        "9996cd6f33174b5f9c7956a7aaca42cb": {
          "model_module": "@jupyter-widgets/base",
          "model_name": "LayoutModel",
          "model_module_version": "1.2.0",
          "state": {
            "_model_module": "@jupyter-widgets/base",
            "_model_module_version": "1.2.0",
            "_model_name": "LayoutModel",
            "_view_count": null,
            "_view_module": "@jupyter-widgets/base",
            "_view_module_version": "1.2.0",
            "_view_name": "LayoutView",
            "align_content": null,
            "align_items": null,
            "align_self": null,
            "border": null,
            "bottom": null,
            "display": null,
            "flex": null,
            "flex_flow": null,
            "grid_area": null,
            "grid_auto_columns": null,
            "grid_auto_flow": null,
            "grid_auto_rows": null,
            "grid_column": null,
            "grid_gap": null,
            "grid_row": null,
            "grid_template_areas": null,
            "grid_template_columns": null,
            "grid_template_rows": null,
            "height": null,
            "justify_content": null,
            "justify_items": null,
            "left": null,
            "margin": null,
            "max_height": null,
            "max_width": null,
            "min_height": null,
            "min_width": null,
            "object_fit": null,
            "object_position": null,
            "order": null,
            "overflow": null,
            "overflow_x": null,
            "overflow_y": null,
            "padding": null,
            "right": null,
            "top": null,
            "visibility": null,
            "width": null
          }
        },
        "bac660e47e564b649d853154a161687a": {
          "model_module": "@jupyter-widgets/controls",
          "model_name": "ProgressStyleModel",
          "model_module_version": "1.5.0",
          "state": {
            "_model_module": "@jupyter-widgets/controls",
            "_model_module_version": "1.5.0",
            "_model_name": "ProgressStyleModel",
            "_view_count": null,
            "_view_module": "@jupyter-widgets/base",
            "_view_module_version": "1.2.0",
            "_view_name": "StyleView",
            "bar_color": null,
            "description_width": ""
          }
        },
        "57105ebb88eb438898cb392166f72394": {
          "model_module": "@jupyter-widgets/base",
          "model_name": "LayoutModel",
          "model_module_version": "1.2.0",
          "state": {
            "_model_module": "@jupyter-widgets/base",
            "_model_module_version": "1.2.0",
            "_model_name": "LayoutModel",
            "_view_count": null,
            "_view_module": "@jupyter-widgets/base",
            "_view_module_version": "1.2.0",
            "_view_name": "LayoutView",
            "align_content": null,
            "align_items": null,
            "align_self": null,
            "border": null,
            "bottom": null,
            "display": null,
            "flex": null,
            "flex_flow": null,
            "grid_area": null,
            "grid_auto_columns": null,
            "grid_auto_flow": null,
            "grid_auto_rows": null,
            "grid_column": null,
            "grid_gap": null,
            "grid_row": null,
            "grid_template_areas": null,
            "grid_template_columns": null,
            "grid_template_rows": null,
            "height": null,
            "justify_content": null,
            "justify_items": null,
            "left": null,
            "margin": null,
            "max_height": null,
            "max_width": null,
            "min_height": null,
            "min_width": null,
            "object_fit": null,
            "object_position": null,
            "order": null,
            "overflow": null,
            "overflow_x": null,
            "overflow_y": null,
            "padding": null,
            "right": null,
            "top": null,
            "visibility": null,
            "width": null
          }
        },
        "41201bc6532146b2ab2b236637889779": {
          "model_module": "@jupyter-widgets/controls",
          "model_name": "DescriptionStyleModel",
          "model_module_version": "1.5.0",
          "state": {
            "_model_module": "@jupyter-widgets/controls",
            "_model_module_version": "1.5.0",
            "_model_name": "DescriptionStyleModel",
            "_view_count": null,
            "_view_module": "@jupyter-widgets/base",
            "_view_module_version": "1.2.0",
            "_view_name": "StyleView",
            "description_width": ""
          }
        },
        "c25c7450dd414f0a9c4abdf19f2fbc80": {
          "model_module": "@jupyter-widgets/controls",
          "model_name": "HBoxModel",
          "model_module_version": "1.5.0",
          "state": {
            "_dom_classes": [],
            "_model_module": "@jupyter-widgets/controls",
            "_model_module_version": "1.5.0",
            "_model_name": "HBoxModel",
            "_view_count": null,
            "_view_module": "@jupyter-widgets/controls",
            "_view_module_version": "1.5.0",
            "_view_name": "HBoxView",
            "box_style": "",
            "children": [
              "IPY_MODEL_928a23896e304947b2f4824a4ba02ecc",
              "IPY_MODEL_98e329bcee664b588568643ccdd2ce67",
              "IPY_MODEL_3d9a9582fdf847d38fa6730debf7df63"
            ],
            "layout": "IPY_MODEL_3371bab3077f4d0f8c077bf624e9d071"
          }
        },
        "928a23896e304947b2f4824a4ba02ecc": {
          "model_module": "@jupyter-widgets/controls",
          "model_name": "HTMLModel",
          "model_module_version": "1.5.0",
          "state": {
            "_dom_classes": [],
            "_model_module": "@jupyter-widgets/controls",
            "_model_module_version": "1.5.0",
            "_model_name": "HTMLModel",
            "_view_count": null,
            "_view_module": "@jupyter-widgets/controls",
            "_view_module_version": "1.5.0",
            "_view_name": "HTMLView",
            "description": "",
            "description_tooltip": null,
            "layout": "IPY_MODEL_d2f0c7db9e334e70a2c6e78c00e162bd",
            "placeholder": "​",
            "style": "IPY_MODEL_3825e3a1b36e4716acb63f06fc524d47",
            "value": "total_reward: 100%"
          }
        },
        "98e329bcee664b588568643ccdd2ce67": {
          "model_module": "@jupyter-widgets/controls",
          "model_name": "FloatProgressModel",
          "model_module_version": "1.5.0",
          "state": {
            "_dom_classes": [],
            "_model_module": "@jupyter-widgets/controls",
            "_model_module_version": "1.5.0",
            "_model_name": "FloatProgressModel",
            "_view_count": null,
            "_view_module": "@jupyter-widgets/controls",
            "_view_module_version": "1.5.0",
            "_view_name": "ProgressView",
            "bar_style": "success",
            "description": "",
            "description_tooltip": null,
            "layout": "IPY_MODEL_b6fa490a740b47919433893d71c22717",
            "max": 100,
            "min": 0,
            "orientation": "horizontal",
            "style": "IPY_MODEL_a78b645c91d94fc7bae5152b7f0cac62",
            "value": 100
          }
        },
        "3d9a9582fdf847d38fa6730debf7df63": {
          "model_module": "@jupyter-widgets/controls",
          "model_name": "HTMLModel",
          "model_module_version": "1.5.0",
          "state": {
            "_dom_classes": [],
            "_model_module": "@jupyter-widgets/controls",
            "_model_module_version": "1.5.0",
            "_model_name": "HTMLModel",
            "_view_count": null,
            "_view_module": "@jupyter-widgets/controls",
            "_view_module_version": "1.5.0",
            "_view_name": "HTMLView",
            "description": "",
            "description_tooltip": null,
            "layout": "IPY_MODEL_8c7d7bf69a244987808a72e791ec18b3",
            "placeholder": "​",
            "style": "IPY_MODEL_bc7d502c8cff4d0bbfae965324de2011",
            "value": " 100/100 [00:00&lt;00:00, 3338.51it/s]"
          }
        },
        "3371bab3077f4d0f8c077bf624e9d071": {
          "model_module": "@jupyter-widgets/base",
          "model_name": "LayoutModel",
          "model_module_version": "1.2.0",
          "state": {
            "_model_module": "@jupyter-widgets/base",
            "_model_module_version": "1.2.0",
            "_model_name": "LayoutModel",
            "_view_count": null,
            "_view_module": "@jupyter-widgets/base",
            "_view_module_version": "1.2.0",
            "_view_name": "LayoutView",
            "align_content": null,
            "align_items": null,
            "align_self": null,
            "border": null,
            "bottom": null,
            "display": null,
            "flex": null,
            "flex_flow": null,
            "grid_area": null,
            "grid_auto_columns": null,
            "grid_auto_flow": null,
            "grid_auto_rows": null,
            "grid_column": null,
            "grid_gap": null,
            "grid_row": null,
            "grid_template_areas": null,
            "grid_template_columns": null,
            "grid_template_rows": null,
            "height": null,
            "justify_content": null,
            "justify_items": null,
            "left": null,
            "margin": null,
            "max_height": null,
            "max_width": null,
            "min_height": null,
            "min_width": null,
            "object_fit": null,
            "object_position": null,
            "order": null,
            "overflow": null,
            "overflow_x": null,
            "overflow_y": null,
            "padding": null,
            "right": null,
            "top": null,
            "visibility": null,
            "width": null
          }
        },
        "d2f0c7db9e334e70a2c6e78c00e162bd": {
          "model_module": "@jupyter-widgets/base",
          "model_name": "LayoutModel",
          "model_module_version": "1.2.0",
          "state": {
            "_model_module": "@jupyter-widgets/base",
            "_model_module_version": "1.2.0",
            "_model_name": "LayoutModel",
            "_view_count": null,
            "_view_module": "@jupyter-widgets/base",
            "_view_module_version": "1.2.0",
            "_view_name": "LayoutView",
            "align_content": null,
            "align_items": null,
            "align_self": null,
            "border": null,
            "bottom": null,
            "display": null,
            "flex": null,
            "flex_flow": null,
            "grid_area": null,
            "grid_auto_columns": null,
            "grid_auto_flow": null,
            "grid_auto_rows": null,
            "grid_column": null,
            "grid_gap": null,
            "grid_row": null,
            "grid_template_areas": null,
            "grid_template_columns": null,
            "grid_template_rows": null,
            "height": null,
            "justify_content": null,
            "justify_items": null,
            "left": null,
            "margin": null,
            "max_height": null,
            "max_width": null,
            "min_height": null,
            "min_width": null,
            "object_fit": null,
            "object_position": null,
            "order": null,
            "overflow": null,
            "overflow_x": null,
            "overflow_y": null,
            "padding": null,
            "right": null,
            "top": null,
            "visibility": null,
            "width": null
          }
        },
        "3825e3a1b36e4716acb63f06fc524d47": {
          "model_module": "@jupyter-widgets/controls",
          "model_name": "DescriptionStyleModel",
          "model_module_version": "1.5.0",
          "state": {
            "_model_module": "@jupyter-widgets/controls",
            "_model_module_version": "1.5.0",
            "_model_name": "DescriptionStyleModel",
            "_view_count": null,
            "_view_module": "@jupyter-widgets/base",
            "_view_module_version": "1.2.0",
            "_view_name": "StyleView",
            "description_width": ""
          }
        },
        "b6fa490a740b47919433893d71c22717": {
          "model_module": "@jupyter-widgets/base",
          "model_name": "LayoutModel",
          "model_module_version": "1.2.0",
          "state": {
            "_model_module": "@jupyter-widgets/base",
            "_model_module_version": "1.2.0",
            "_model_name": "LayoutModel",
            "_view_count": null,
            "_view_module": "@jupyter-widgets/base",
            "_view_module_version": "1.2.0",
            "_view_name": "LayoutView",
            "align_content": null,
            "align_items": null,
            "align_self": null,
            "border": null,
            "bottom": null,
            "display": null,
            "flex": null,
            "flex_flow": null,
            "grid_area": null,
            "grid_auto_columns": null,
            "grid_auto_flow": null,
            "grid_auto_rows": null,
            "grid_column": null,
            "grid_gap": null,
            "grid_row": null,
            "grid_template_areas": null,
            "grid_template_columns": null,
            "grid_template_rows": null,
            "height": null,
            "justify_content": null,
            "justify_items": null,
            "left": null,
            "margin": null,
            "max_height": null,
            "max_width": null,
            "min_height": null,
            "min_width": null,
            "object_fit": null,
            "object_position": null,
            "order": null,
            "overflow": null,
            "overflow_x": null,
            "overflow_y": null,
            "padding": null,
            "right": null,
            "top": null,
            "visibility": null,
            "width": null
          }
        },
        "a78b645c91d94fc7bae5152b7f0cac62": {
          "model_module": "@jupyter-widgets/controls",
          "model_name": "ProgressStyleModel",
          "model_module_version": "1.5.0",
          "state": {
            "_model_module": "@jupyter-widgets/controls",
            "_model_module_version": "1.5.0",
            "_model_name": "ProgressStyleModel",
            "_view_count": null,
            "_view_module": "@jupyter-widgets/base",
            "_view_module_version": "1.2.0",
            "_view_name": "StyleView",
            "bar_color": null,
            "description_width": ""
          }
        },
        "8c7d7bf69a244987808a72e791ec18b3": {
          "model_module": "@jupyter-widgets/base",
          "model_name": "LayoutModel",
          "model_module_version": "1.2.0",
          "state": {
            "_model_module": "@jupyter-widgets/base",
            "_model_module_version": "1.2.0",
            "_model_name": "LayoutModel",
            "_view_count": null,
            "_view_module": "@jupyter-widgets/base",
            "_view_module_version": "1.2.0",
            "_view_name": "LayoutView",
            "align_content": null,
            "align_items": null,
            "align_self": null,
            "border": null,
            "bottom": null,
            "display": null,
            "flex": null,
            "flex_flow": null,
            "grid_area": null,
            "grid_auto_columns": null,
            "grid_auto_flow": null,
            "grid_auto_rows": null,
            "grid_column": null,
            "grid_gap": null,
            "grid_row": null,
            "grid_template_areas": null,
            "grid_template_columns": null,
            "grid_template_rows": null,
            "height": null,
            "justify_content": null,
            "justify_items": null,
            "left": null,
            "margin": null,
            "max_height": null,
            "max_width": null,
            "min_height": null,
            "min_width": null,
            "object_fit": null,
            "object_position": null,
            "order": null,
            "overflow": null,
            "overflow_x": null,
            "overflow_y": null,
            "padding": null,
            "right": null,
            "top": null,
            "visibility": null,
            "width": null
          }
        },
        "bc7d502c8cff4d0bbfae965324de2011": {
          "model_module": "@jupyter-widgets/controls",
          "model_name": "DescriptionStyleModel",
          "model_module_version": "1.5.0",
          "state": {
            "_model_module": "@jupyter-widgets/controls",
            "_model_module_version": "1.5.0",
            "_model_name": "DescriptionStyleModel",
            "_view_count": null,
            "_view_module": "@jupyter-widgets/base",
            "_view_module_version": "1.2.0",
            "_view_name": "StyleView",
            "description_width": ""
          }
        },
        "7f593d4255a74d0ba09db97bcd982058": {
          "model_module": "@jupyter-widgets/controls",
          "model_name": "HBoxModel",
          "model_module_version": "1.5.0",
          "state": {
            "_dom_classes": [],
            "_model_module": "@jupyter-widgets/controls",
            "_model_module_version": "1.5.0",
            "_model_name": "HBoxModel",
            "_view_count": null,
            "_view_module": "@jupyter-widgets/controls",
            "_view_module_version": "1.5.0",
            "_view_name": "HBoxView",
            "box_style": "",
            "children": [
              "IPY_MODEL_b7f4db6941364e2a8f5bba87d8d2f9db",
              "IPY_MODEL_c9bf1493148d43c0acf2b1bf9865fc39",
              "IPY_MODEL_54863630a2a8447d8998a07bb57c3d7b"
            ],
            "layout": "IPY_MODEL_a1d475fa33374716b2a5173cc8941732"
          }
        },
        "b7f4db6941364e2a8f5bba87d8d2f9db": {
          "model_module": "@jupyter-widgets/controls",
          "model_name": "HTMLModel",
          "model_module_version": "1.5.0",
          "state": {
            "_dom_classes": [],
            "_model_module": "@jupyter-widgets/controls",
            "_model_module_version": "1.5.0",
            "_model_name": "HTMLModel",
            "_view_count": null,
            "_view_module": "@jupyter-widgets/controls",
            "_view_module_version": "1.5.0",
            "_view_name": "HTMLView",
            "description": "",
            "description_tooltip": null,
            "layout": "IPY_MODEL_ff663c5987ef41909ef2321611620512",
            "placeholder": "​",
            "style": "IPY_MODEL_7a8febf662ed453bbaf6042862da009e",
            "value": "total_reward: 100%"
          }
        },
        "c9bf1493148d43c0acf2b1bf9865fc39": {
          "model_module": "@jupyter-widgets/controls",
          "model_name": "FloatProgressModel",
          "model_module_version": "1.5.0",
          "state": {
            "_dom_classes": [],
            "_model_module": "@jupyter-widgets/controls",
            "_model_module_version": "1.5.0",
            "_model_name": "FloatProgressModel",
            "_view_count": null,
            "_view_module": "@jupyter-widgets/controls",
            "_view_module_version": "1.5.0",
            "_view_name": "ProgressView",
            "bar_style": "success",
            "description": "",
            "description_tooltip": null,
            "layout": "IPY_MODEL_5ff3fe3f124e47f2938153da7602c0a1",
            "max": 100,
            "min": 0,
            "orientation": "horizontal",
            "style": "IPY_MODEL_b426693a08674b55b2fe20931b33c9dd",
            "value": 100
          }
        },
        "54863630a2a8447d8998a07bb57c3d7b": {
          "model_module": "@jupyter-widgets/controls",
          "model_name": "HTMLModel",
          "model_module_version": "1.5.0",
          "state": {
            "_dom_classes": [],
            "_model_module": "@jupyter-widgets/controls",
            "_model_module_version": "1.5.0",
            "_model_name": "HTMLModel",
            "_view_count": null,
            "_view_module": "@jupyter-widgets/controls",
            "_view_module_version": "1.5.0",
            "_view_name": "HTMLView",
            "description": "",
            "description_tooltip": null,
            "layout": "IPY_MODEL_5f4b9885b6ae4a79b64e583e460b7991",
            "placeholder": "​",
            "style": "IPY_MODEL_d02d1e9698254d17941551a3197d9ab3",
            "value": " 100/100 [00:00&lt;00:00, 2536.94it/s]"
          }
        },
        "a1d475fa33374716b2a5173cc8941732": {
          "model_module": "@jupyter-widgets/base",
          "model_name": "LayoutModel",
          "model_module_version": "1.2.0",
          "state": {
            "_model_module": "@jupyter-widgets/base",
            "_model_module_version": "1.2.0",
            "_model_name": "LayoutModel",
            "_view_count": null,
            "_view_module": "@jupyter-widgets/base",
            "_view_module_version": "1.2.0",
            "_view_name": "LayoutView",
            "align_content": null,
            "align_items": null,
            "align_self": null,
            "border": null,
            "bottom": null,
            "display": null,
            "flex": null,
            "flex_flow": null,
            "grid_area": null,
            "grid_auto_columns": null,
            "grid_auto_flow": null,
            "grid_auto_rows": null,
            "grid_column": null,
            "grid_gap": null,
            "grid_row": null,
            "grid_template_areas": null,
            "grid_template_columns": null,
            "grid_template_rows": null,
            "height": null,
            "justify_content": null,
            "justify_items": null,
            "left": null,
            "margin": null,
            "max_height": null,
            "max_width": null,
            "min_height": null,
            "min_width": null,
            "object_fit": null,
            "object_position": null,
            "order": null,
            "overflow": null,
            "overflow_x": null,
            "overflow_y": null,
            "padding": null,
            "right": null,
            "top": null,
            "visibility": null,
            "width": null
          }
        },
        "ff663c5987ef41909ef2321611620512": {
          "model_module": "@jupyter-widgets/base",
          "model_name": "LayoutModel",
          "model_module_version": "1.2.0",
          "state": {
            "_model_module": "@jupyter-widgets/base",
            "_model_module_version": "1.2.0",
            "_model_name": "LayoutModel",
            "_view_count": null,
            "_view_module": "@jupyter-widgets/base",
            "_view_module_version": "1.2.0",
            "_view_name": "LayoutView",
            "align_content": null,
            "align_items": null,
            "align_self": null,
            "border": null,
            "bottom": null,
            "display": null,
            "flex": null,
            "flex_flow": null,
            "grid_area": null,
            "grid_auto_columns": null,
            "grid_auto_flow": null,
            "grid_auto_rows": null,
            "grid_column": null,
            "grid_gap": null,
            "grid_row": null,
            "grid_template_areas": null,
            "grid_template_columns": null,
            "grid_template_rows": null,
            "height": null,
            "justify_content": null,
            "justify_items": null,
            "left": null,
            "margin": null,
            "max_height": null,
            "max_width": null,
            "min_height": null,
            "min_width": null,
            "object_fit": null,
            "object_position": null,
            "order": null,
            "overflow": null,
            "overflow_x": null,
            "overflow_y": null,
            "padding": null,
            "right": null,
            "top": null,
            "visibility": null,
            "width": null
          }
        },
        "7a8febf662ed453bbaf6042862da009e": {
          "model_module": "@jupyter-widgets/controls",
          "model_name": "DescriptionStyleModel",
          "model_module_version": "1.5.0",
          "state": {
            "_model_module": "@jupyter-widgets/controls",
            "_model_module_version": "1.5.0",
            "_model_name": "DescriptionStyleModel",
            "_view_count": null,
            "_view_module": "@jupyter-widgets/base",
            "_view_module_version": "1.2.0",
            "_view_name": "StyleView",
            "description_width": ""
          }
        },
        "5ff3fe3f124e47f2938153da7602c0a1": {
          "model_module": "@jupyter-widgets/base",
          "model_name": "LayoutModel",
          "model_module_version": "1.2.0",
          "state": {
            "_model_module": "@jupyter-widgets/base",
            "_model_module_version": "1.2.0",
            "_model_name": "LayoutModel",
            "_view_count": null,
            "_view_module": "@jupyter-widgets/base",
            "_view_module_version": "1.2.0",
            "_view_name": "LayoutView",
            "align_content": null,
            "align_items": null,
            "align_self": null,
            "border": null,
            "bottom": null,
            "display": null,
            "flex": null,
            "flex_flow": null,
            "grid_area": null,
            "grid_auto_columns": null,
            "grid_auto_flow": null,
            "grid_auto_rows": null,
            "grid_column": null,
            "grid_gap": null,
            "grid_row": null,
            "grid_template_areas": null,
            "grid_template_columns": null,
            "grid_template_rows": null,
            "height": null,
            "justify_content": null,
            "justify_items": null,
            "left": null,
            "margin": null,
            "max_height": null,
            "max_width": null,
            "min_height": null,
            "min_width": null,
            "object_fit": null,
            "object_position": null,
            "order": null,
            "overflow": null,
            "overflow_x": null,
            "overflow_y": null,
            "padding": null,
            "right": null,
            "top": null,
            "visibility": null,
            "width": null
          }
        },
        "b426693a08674b55b2fe20931b33c9dd": {
          "model_module": "@jupyter-widgets/controls",
          "model_name": "ProgressStyleModel",
          "model_module_version": "1.5.0",
          "state": {
            "_model_module": "@jupyter-widgets/controls",
            "_model_module_version": "1.5.0",
            "_model_name": "ProgressStyleModel",
            "_view_count": null,
            "_view_module": "@jupyter-widgets/base",
            "_view_module_version": "1.2.0",
            "_view_name": "StyleView",
            "bar_color": null,
            "description_width": ""
          }
        },
        "5f4b9885b6ae4a79b64e583e460b7991": {
          "model_module": "@jupyter-widgets/base",
          "model_name": "LayoutModel",
          "model_module_version": "1.2.0",
          "state": {
            "_model_module": "@jupyter-widgets/base",
            "_model_module_version": "1.2.0",
            "_model_name": "LayoutModel",
            "_view_count": null,
            "_view_module": "@jupyter-widgets/base",
            "_view_module_version": "1.2.0",
            "_view_name": "LayoutView",
            "align_content": null,
            "align_items": null,
            "align_self": null,
            "border": null,
            "bottom": null,
            "display": null,
            "flex": null,
            "flex_flow": null,
            "grid_area": null,
            "grid_auto_columns": null,
            "grid_auto_flow": null,
            "grid_auto_rows": null,
            "grid_column": null,
            "grid_gap": null,
            "grid_row": null,
            "grid_template_areas": null,
            "grid_template_columns": null,
            "grid_template_rows": null,
            "height": null,
            "justify_content": null,
            "justify_items": null,
            "left": null,
            "margin": null,
            "max_height": null,
            "max_width": null,
            "min_height": null,
            "min_width": null,
            "object_fit": null,
            "object_position": null,
            "order": null,
            "overflow": null,
            "overflow_x": null,
            "overflow_y": null,
            "padding": null,
            "right": null,
            "top": null,
            "visibility": null,
            "width": null
          }
        },
        "d02d1e9698254d17941551a3197d9ab3": {
          "model_module": "@jupyter-widgets/controls",
          "model_name": "DescriptionStyleModel",
          "model_module_version": "1.5.0",
          "state": {
            "_model_module": "@jupyter-widgets/controls",
            "_model_module_version": "1.5.0",
            "_model_name": "DescriptionStyleModel",
            "_view_count": null,
            "_view_module": "@jupyter-widgets/base",
            "_view_module_version": "1.2.0",
            "_view_name": "StyleView",
            "description_width": ""
          }
        }
      }
    }
  },
  "nbformat": 4,
  "nbformat_minor": 0
}